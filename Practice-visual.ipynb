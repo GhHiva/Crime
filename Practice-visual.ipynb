{
 "cells": [
  {
   "cell_type": "code",
   "execution_count": 1,
   "id": "3b06431c-7f5b-4e6f-bd9c-f248762f23cd",
   "metadata": {},
   "outputs": [],
   "source": [
    "import pandas as pd\n",
    "df= pd.read_csv('data_collected_google_bing.csv')"
   ]
  },
  {
   "cell_type": "code",
   "execution_count": 2,
   "id": "6b3e2a08-6829-458f-bb30-ae9cf885deba",
   "metadata": {},
   "outputs": [
    {
     "data": {
      "text/html": [
       "<div>\n",
       "<style scoped>\n",
       "    .dataframe tbody tr th:only-of-type {\n",
       "        vertical-align: middle;\n",
       "    }\n",
       "\n",
       "    .dataframe tbody tr th {\n",
       "        vertical-align: top;\n",
       "    }\n",
       "\n",
       "    .dataframe thead th {\n",
       "        text-align: right;\n",
       "    }\n",
       "</style>\n",
       "<table border=\"1\" class=\"dataframe\">\n",
       "  <thead>\n",
       "    <tr style=\"text-align: right;\">\n",
       "      <th></th>\n",
       "      <th>Query</th>\n",
       "      <th>Engine</th>\n",
       "      <th>Title</th>\n",
       "      <th>Content</th>\n",
       "      <th>Date</th>\n",
       "    </tr>\n",
       "  </thead>\n",
       "  <tbody>\n",
       "    <tr>\n",
       "      <th>0</th>\n",
       "      <td>Vessel caught misreporting catch amount</td>\n",
       "      <td>Google</td>\n",
       "      <td>Sea Shepherd Global</td>\n",
       "      <td>Wednesday, 05 Jun, 2024 Sea Shepherd Global s...</td>\n",
       "      <td>2024-06-05</td>\n",
       "    </tr>\n",
       "    <tr>\n",
       "      <th>1</th>\n",
       "      <td>Vessel caught misreporting catch amount</td>\n",
       "      <td>Google</td>\n",
       "      <td>New rules tighten controls on EU…</td>\n",
       "      <td>Today, the Environmental Justice Foundation c...</td>\n",
       "      <td>2024-05-24</td>\n",
       "    </tr>\n",
       "    <tr>\n",
       "      <th>2</th>\n",
       "      <td>Vessel caught misreporting catch amount</td>\n",
       "      <td>Google</td>\n",
       "      <td>N.S. boat captain, 2 companies fined $125K for...</td>\n",
       "      <td>A boat captain from Sambro, N.S., with a hist...</td>\n",
       "      <td>2023-09-13</td>\n",
       "    </tr>\n",
       "    <tr>\n",
       "      <th>3</th>\n",
       "      <td>Vessel caught misreporting catch amount</td>\n",
       "      <td>Google</td>\n",
       "      <td>Move the IUU Fight Up the Food Chain | Proceed...</td>\n",
       "      <td>NaN</td>\n",
       "      <td>2023-10-31</td>\n",
       "    </tr>\n",
       "    <tr>\n",
       "      <th>4</th>\n",
       "      <td>Vessel caught misreporting catch amount</td>\n",
       "      <td>Google</td>\n",
       "      <td>Surprise! Media is misreporting the source of ...</td>\n",
       "      <td>Early this morning, the Fremantle Highway, a ...</td>\n",
       "      <td>2023-07-26</td>\n",
       "    </tr>\n",
       "  </tbody>\n",
       "</table>\n",
       "</div>"
      ],
      "text/plain": [
       "                                     Query  Engine  \\\n",
       "0  Vessel caught misreporting catch amount  Google   \n",
       "1  Vessel caught misreporting catch amount  Google   \n",
       "2  Vessel caught misreporting catch amount  Google   \n",
       "3  Vessel caught misreporting catch amount  Google   \n",
       "4  Vessel caught misreporting catch amount  Google   \n",
       "\n",
       "                                               Title  \\\n",
       "0                                Sea Shepherd Global   \n",
       "1                  New rules tighten controls on EU…   \n",
       "2  N.S. boat captain, 2 companies fined $125K for...   \n",
       "3  Move the IUU Fight Up the Food Chain | Proceed...   \n",
       "4  Surprise! Media is misreporting the source of ...   \n",
       "\n",
       "                                             Content        Date  \n",
       "0   Wednesday, 05 Jun, 2024 Sea Shepherd Global s...  2024-06-05  \n",
       "1   Today, the Environmental Justice Foundation c...  2024-05-24  \n",
       "2   A boat captain from Sambro, N.S., with a hist...  2023-09-13  \n",
       "3                                                NaN  2023-10-31  \n",
       "4   Early this morning, the Fremantle Highway, a ...  2023-07-26  "
      ]
     },
     "execution_count": 2,
     "metadata": {},
     "output_type": "execute_result"
    }
   ],
   "source": [
    "df.head()"
   ]
  },
  {
   "cell_type": "code",
   "execution_count": 3,
   "id": "910be8bc-cd72-430a-a234-3eaabbdd217d",
   "metadata": {},
   "outputs": [
    {
     "name": "stdout",
     "output_type": "stream",
     "text": [
      "Unique sources by search engine: Engine\n",
      "Bing      59\n",
      "Google    77\n",
      "Name: Title, dtype: int64\n"
     ]
    }
   ],
   "source": [
    "# Find unique sources\n",
    "unique_sources = df['Title'].nunique()\n",
    "print(\"Unique sources by search engine:\", df.groupby('Engine')['Title'].nunique())"
   ]
  },
  {
   "cell_type": "code",
   "execution_count": 4,
   "id": "b1d315e7-d730-494d-8363-6e4c26e7b872",
   "metadata": {},
   "outputs": [
    {
     "data": {
      "text/plain": [
       "28"
      ]
     },
     "execution_count": 4,
     "metadata": {},
     "output_type": "execute_result"
    }
   ],
   "source": [
    "df[\"Content\"].isna().sum()"
   ]
  },
  {
   "cell_type": "code",
   "execution_count": 5,
   "id": "1b700dc5-dbbd-4d0d-acb0-66d6f354e752",
   "metadata": {},
   "outputs": [
    {
     "data": {
      "text/plain": [
       "(24,)"
      ]
     },
     "execution_count": 5,
     "metadata": {},
     "output_type": "execute_result"
    }
   ],
   "source": [
    "141-117, # 24 repeated content, 28 NaN"
   ]
  },
  {
   "cell_type": "code",
   "execution_count": 6,
   "id": "18ccd76b-43b5-4b04-b900-b3f5f5334bf6",
   "metadata": {},
   "outputs": [
    {
     "data": {
      "text/html": [
       "<div>\n",
       "<style scoped>\n",
       "    .dataframe tbody tr th:only-of-type {\n",
       "        vertical-align: middle;\n",
       "    }\n",
       "\n",
       "    .dataframe tbody tr th {\n",
       "        vertical-align: top;\n",
       "    }\n",
       "\n",
       "    .dataframe thead th {\n",
       "        text-align: right;\n",
       "    }\n",
       "</style>\n",
       "<table border=\"1\" class=\"dataframe\">\n",
       "  <thead>\n",
       "    <tr style=\"text-align: right;\">\n",
       "      <th></th>\n",
       "      <th>Query</th>\n",
       "      <th>Engine</th>\n",
       "      <th>Title</th>\n",
       "      <th>Content</th>\n",
       "      <th>Date</th>\n",
       "    </tr>\n",
       "  </thead>\n",
       "  <tbody>\n",
       "    <tr>\n",
       "      <th>count</th>\n",
       "      <td>169</td>\n",
       "      <td>169</td>\n",
       "      <td>169</td>\n",
       "      <td>141</td>\n",
       "      <td>169</td>\n",
       "    </tr>\n",
       "    <tr>\n",
       "      <th>unique</th>\n",
       "      <td>10</td>\n",
       "      <td>2</td>\n",
       "      <td>136</td>\n",
       "      <td>117</td>\n",
       "      <td>117</td>\n",
       "    </tr>\n",
       "    <tr>\n",
       "      <th>top</th>\n",
       "      <td>Vessel caught with incorrect catch reports</td>\n",
       "      <td>Google</td>\n",
       "      <td>Two vessels catch fire after missile strikes o...</td>\n",
       "      <td>©2024 iStockphoto LP. The iStock design is a ...</td>\n",
       "      <td>10 days ago</td>\n",
       "    </tr>\n",
       "    <tr>\n",
       "      <th>freq</th>\n",
       "      <td>20</td>\n",
       "      <td>86</td>\n",
       "      <td>7</td>\n",
       "      <td>4</td>\n",
       "      <td>13</td>\n",
       "    </tr>\n",
       "  </tbody>\n",
       "</table>\n",
       "</div>"
      ],
      "text/plain": [
       "                                             Query  Engine  \\\n",
       "count                                          169     169   \n",
       "unique                                          10       2   \n",
       "top     Vessel caught with incorrect catch reports  Google   \n",
       "freq                                            20      86   \n",
       "\n",
       "                                                    Title  \\\n",
       "count                                                 169   \n",
       "unique                                                136   \n",
       "top     Two vessels catch fire after missile strikes o...   \n",
       "freq                                                    7   \n",
       "\n",
       "                                                  Content         Date  \n",
       "count                                                 141          169  \n",
       "unique                                                117          117  \n",
       "top      ©2024 iStockphoto LP. The iStock design is a ...  10 days ago  \n",
       "freq                                                    4           13  "
      ]
     },
     "execution_count": 6,
     "metadata": {},
     "output_type": "execute_result"
    }
   ],
   "source": [
    "df.describe()"
   ]
  },
  {
   "cell_type": "code",
   "execution_count": 7,
   "id": "53af93c8-cbee-42b5-b3ac-6ed667a20cde",
   "metadata": {},
   "outputs": [],
   "source": [
    "\n",
    "word_groups = [\n",
    "    # About documents\n",
    "    ['unreport', 'unreported', 'unreporting', 'unreports', 'report','reports','reported','unreporting', 'underreport','underreporting','underreported','underreports', 'misreport','misreports','misreported','misreporting', 'nonreport','nonreporting','nonreported','nonreports' ],\n",
    "    ['underreport', 'underreports', 'underreported', 'underreporting'],\n",
    "    ['undocumented', 'undocument', 'undocumenting', 'undocuments'],\n",
    "    ['misrepresent', 'misrepresented', 'misrepresenting', 'misreports'],\n",
    "    ['evade', 'evading','evaded','evades' ], \n",
    "    ['detect', 'detecting','detected','detects' ],\n",
    "    ['appear', 'appearing','appeared','appears' ],\n",
    "    ['reappear', 'reappeared','reappearing','reappears' ],\n",
    "    ['disappear', 'disappearing','adisppeared','disappears' ],\n",
    "    ['reveal','revealing','revealed','reveales'],\n",
    "    ['undisclosed', 'undisclose', 'undiscloses', 'undisclosing'],\n",
    "    ['disclose', 'disclosing','discloses', 'disclosed'],\n",
    "    ['banned', 'banning', 'ban', 'bans'],\n",
    "    ['discover', 'discovers'],\n",
    "    ['endanger'],\n",
    "    ['unrecorded', 'unrecord', 'unrecords', 'unrecording'],\n",
    "    ['record', 'recording', 'recorded', 'records', 'non-record', 'non-records', 'non-recording'],\n",
    "    ['hiding', 'hide','hidden','hides'],\n",
    "    ['register', 'registers', 'registered', 'registering', 'unregister', 'unregisters', 'unregistered', 'unregistering'],\n",
    "    ['logbook', 'logged'],\n",
    "    ['declaration', 'declare', 'declares', 'declared', 'declaring', 'underdeclaration', 'under-declaration'],\n",
    "    ['label', 'mislabel', 'labeling', 'labeled', 'labels', 'mislabeling', 'mislabled', 'mislables'],\n",
    "    # About being false\n",
    "    ['false', 'falsify', 'falsifies', 'falsifying', 'falsifies', 'falsified', 'falsification', 'fake', 'manipulated', 'manipulate', 'manipulates'],\n",
    "    ['fraud', 'fraudulence', 'hoax'],\n",
    "    # About amounts\n",
    "    ['volume', 'quota', 'exceed', 'exceeds', 'exceeded', 'exceeding', 'inflation'],\n",
    "    # Fish, Ocean, port \n",
    "    ['catch', 'bycatch', 'harvest', 'juvenile', 'invasive'],\n",
    "    ['farmed', 'farming', 'trade'], \n",
    "    ['ocean', 'sea', 'seas'],\n",
    "    ['port'],\n",
    "    ['transshipment'],\n",
    "    ['landing'],\n",
    "    ['selective'],    \n",
    "#    ['commercial', 'industrial'],\n",
    "    # Crime\n",
    "    ['offend', 'offended', 'offends', 'violate', 'violates', 'violated', 'violation'],\n",
    "    ['regulation', 'regulate', 'regulated', 'regulates', 'regulating', 'regulations', 'regulates'],\n",
    "    ['alter', 'altering', 'alters'],\n",
    "    ['exploit', 'exploited', 'exploiting', 'exploits'],\n",
    "    ['impose', 'imposed', 'imposes', 'imposing'],\n",
    "    ['inspector', 'inspectors', 'inspect', 'inspects', 'inspected', 'inspecting','investigate', 'investigates', 'investigated','investigating','investigator'],\n",
    "]"
   ]
  },
  {
   "cell_type": "code",
   "execution_count": 8,
   "id": "afda7a81-a931-4446-a624-3c667ce5abe3",
   "metadata": {},
   "outputs": [
    {
     "data": {
      "text/plain": [
       "38"
      ]
     },
     "execution_count": 8,
     "metadata": {},
     "output_type": "execute_result"
    }
   ],
   "source": [
    "len(word_groups)"
   ]
  },
  {
   "cell_type": "markdown",
   "id": "72aca775-05cf-4c8a-b9e0-4c718c46d124",
   "metadata": {},
   "source": [
    "### What's wrong here (first code) & need clarification for the secode function"
   ]
  },
  {
   "cell_type": "code",
   "execution_count": 9,
   "id": "5edc15f4-cd02-4b8f-80f4-b967bb4b702e",
   "metadata": {},
   "outputs": [],
   "source": [
    "import re \n",
    "\n",
    "###### clean_word is with a subroutine of rep_word_text, dealing with one group of words\n",
    "def clean_word(text, group):\n",
    "    if len(group) == 1:\n",
    "        return text\n",
    "    elif len(group) != 1:\n",
    "        updated_text = text\n",
    "        #return 2\n",
    "        for i in range(1,len(group)):\n",
    "            pattern = r'\\b{}\\b'.format(re.escape(group[i]))\n",
    "            updated_text = re.sub(pattern, group[0], updated_text)\n",
    "        return updated_text\n",
    "    else:\n",
    "        print(\"The word group is empty\")\n",
    "        return None\n",
    "\n",
    "##### Here word_group_list is the list of word groups.\n",
    "def rep_word_text(text, word_group_list):\n",
    "    if len(word_group_list) != 0:\n",
    "        new_text = text\n",
    "        for i in range(len(word_group_list)):\n",
    "            new_text = clean_word(new_text, word_group_list[i])\n",
    "        return new_text\n",
    "    else:\n",
    "        print(\"the word group list is invalid\")\n",
    "        return None"
   ]
  },
  {
   "cell_type": "markdown",
   "id": "d083a3f6-dfb6-4a89-a02a-3150f437888a",
   "metadata": {},
   "source": [
    "### CHat GPT Code"
   ]
  },
  {
   "cell_type": "code",
   "execution_count": 103,
   "id": "75fdf588-cb4e-40fe-9aba-c6408d83915c",
   "metadata": {},
   "outputs": [
    {
     "name": "stdout",
     "output_type": "stream",
     "text": [
      "Here we want & to -reporting the fishing crime in the water?\n"
     ]
    }
   ],
   "source": [
    "import re\n",
    "\n",
    "def clean_word(text, group):\n",
    "    # Return the original text if the group has only one word or is empty\n",
    "    if len(group) <= 1:\n",
    "        return text\n",
    "\n",
    "    updated_text = text\n",
    "    for i in range(1, len(group)):  # Start from index 1\n",
    "        pattern = r'\\b{}\\b'.format(re.escape(group[i]))\n",
    "        updated_text = re.sub(pattern, group[0], updated_text)\n",
    "\n",
    "    return updated_text\n",
    "\n",
    "# List of word groups\n",
    "groups = [\n",
    "    ['unreport', 'unreported', 'unreporting', 'unreports', 'report','reports','reported','underreport','underreporting','underreported','underreports', 'misreport','misreports','misreported','misreporting', 'non-report','non-reporting','non-reported','non-reports'],\n",
    "    ['underreport', 'underreports', 'underreported', 'underreporting'],\n",
    "    ['undocumented', 'undocument', 'undocumenting', 'undocuments'],\n",
    "    ['misrepresent', 'misrepresented', 'misrepresenting', 'misreports'],\n",
    "    ['evade', 'evading','evaded','evades'], \n",
    "    ['detect', 'detecting','detected','detects'],\n",
    "    ['appear', 'appearing','appeared','appears'],\n",
    "    ['reappear', 'reappeared','reappearing','reappears'],\n",
    "    ['disappear', 'disappearing','disappeared','disappears'],\n",
    "    ['reveal','revealing','revealed','reveals'],\n",
    "    ['undisclosed', 'undisclose', 'undiscloses', 'undisclosing'],\n",
    "    ['disclose', 'disclosing','discloses', 'disclosed'],\n",
    "    ['banned', 'banning', 'ban', 'bans'],\n",
    "    ['discover', 'discovers'],\n",
    "    ['endanger']\n",
    "]\n",
    "\n",
    "# Text to clean\n",
    "checking_text = \"Here we want & to -reporting the fishing crime in the water?\"\n",
    "\n",
    "# Clean the text for each group\n",
    "for group in groups:\n",
    "    checking_text = clean_word(checking_text, group)\n",
    "\n",
    "print(checking_text)\n"
   ]
  },
  {
   "cell_type": "code",
   "execution_count": 27,
   "id": "79b62286-aef0-4660-80f2-9a5c60184907",
   "metadata": {},
   "outputs": [
    {
     "data": {
      "text/plain": [
       "['unreport',\n",
       " 'underreport',\n",
       " 'undocumented',\n",
       " 'misrepresent',\n",
       " 'register',\n",
       " 'logbook']"
      ]
     },
     "execution_count": 27,
     "metadata": {},
     "output_type": "execute_result"
    }
   ],
   "source": [
    "keywords = [\"\".join(keyword_list[0]) for keyword_list in word_groups]\n",
    "keywords[:6]"
   ]
  },
  {
   "cell_type": "code",
   "execution_count": 50,
   "id": "2c07624e-c59b-44ce-aa2e-27f27367336b",
   "metadata": {},
   "outputs": [
    {
     "data": {
      "text/plain": [
       "24"
      ]
     },
     "execution_count": 50,
     "metadata": {},
     "output_type": "execute_result"
    }
   ],
   "source": [
    "len(keywords)"
   ]
  },
  {
   "cell_type": "code",
   "execution_count": 26,
   "id": "390f9b3e-71aa-4ed4-b2e1-c6f31c100a7f",
   "metadata": {},
   "outputs": [
    {
     "data": {
      "text/html": [
       "<div>\n",
       "<style scoped>\n",
       "    .dataframe tbody tr th:only-of-type {\n",
       "        vertical-align: middle;\n",
       "    }\n",
       "\n",
       "    .dataframe tbody tr th {\n",
       "        vertical-align: top;\n",
       "    }\n",
       "\n",
       "    .dataframe thead th {\n",
       "        text-align: right;\n",
       "    }\n",
       "</style>\n",
       "<table border=\"1\" class=\"dataframe\">\n",
       "  <thead>\n",
       "    <tr style=\"text-align: right;\">\n",
       "      <th></th>\n",
       "      <th>Query</th>\n",
       "      <th>Engine</th>\n",
       "      <th>Title</th>\n",
       "      <th>Content</th>\n",
       "      <th>Date</th>\n",
       "      <th>rs_title</th>\n",
       "      <th>rs_content_q</th>\n",
       "      <th>rs_content_kw</th>\n",
       "    </tr>\n",
       "  </thead>\n",
       "  <tbody>\n",
       "    <tr>\n",
       "      <th>0</th>\n",
       "      <td>Vessel caught misreporting catch amount</td>\n",
       "      <td>Google</td>\n",
       "      <td>Sea Shepherd Global</td>\n",
       "      <td>Wednesday, 05 Jun, 2024 Sea Shepherd Global s...</td>\n",
       "      <td>2024-06-05</td>\n",
       "      <td>0.0</td>\n",
       "      <td>0.007233</td>\n",
       "      <td>0.003230</td>\n",
       "    </tr>\n",
       "    <tr>\n",
       "      <th>1</th>\n",
       "      <td>Vessel caught misreporting catch amount</td>\n",
       "      <td>Google</td>\n",
       "      <td>New rules tighten controls on EU…</td>\n",
       "      <td>Today, the Environmental Justice Foundation c...</td>\n",
       "      <td>2024-05-24</td>\n",
       "      <td>0.0</td>\n",
       "      <td>0.019755</td>\n",
       "      <td>0.005909</td>\n",
       "    </tr>\n",
       "    <tr>\n",
       "      <th>2</th>\n",
       "      <td>Vessel caught misreporting catch amount</td>\n",
       "      <td>Google</td>\n",
       "      <td>N.S. boat captain, 2 companies fined $125K for...</td>\n",
       "      <td>A boat captain from Sambro, N.S., with a hist...</td>\n",
       "      <td>2023-09-13</td>\n",
       "      <td>0.0</td>\n",
       "      <td>0.020957</td>\n",
       "      <td>0.000367</td>\n",
       "    </tr>\n",
       "    <tr>\n",
       "      <th>3</th>\n",
       "      <td>Vessel caught misreporting catch amount</td>\n",
       "      <td>Google</td>\n",
       "      <td>Move the IUU Fight Up the Food Chain | Proceed...</td>\n",
       "      <td>no content</td>\n",
       "      <td>2023-10-31</td>\n",
       "      <td>0.0</td>\n",
       "      <td>0.000000</td>\n",
       "      <td>0.000000</td>\n",
       "    </tr>\n",
       "    <tr>\n",
       "      <th>4</th>\n",
       "      <td>Vessel caught misreporting catch amount</td>\n",
       "      <td>Google</td>\n",
       "      <td>Surprise! Media is misreporting the source of ...</td>\n",
       "      <td>Early this morning, the Fremantle Highway, a ...</td>\n",
       "      <td>2023-07-26</td>\n",
       "      <td>0.0</td>\n",
       "      <td>0.015843</td>\n",
       "      <td>0.000194</td>\n",
       "    </tr>\n",
       "  </tbody>\n",
       "</table>\n",
       "</div>"
      ],
      "text/plain": [
       "                                     Query  Engine  \\\n",
       "0  Vessel caught misreporting catch amount  Google   \n",
       "1  Vessel caught misreporting catch amount  Google   \n",
       "2  Vessel caught misreporting catch amount  Google   \n",
       "3  Vessel caught misreporting catch amount  Google   \n",
       "4  Vessel caught misreporting catch amount  Google   \n",
       "\n",
       "                                               Title  \\\n",
       "0                                Sea Shepherd Global   \n",
       "1                  New rules tighten controls on EU…   \n",
       "2  N.S. boat captain, 2 companies fined $125K for...   \n",
       "3  Move the IUU Fight Up the Food Chain | Proceed...   \n",
       "4  Surprise! Media is misreporting the source of ...   \n",
       "\n",
       "                                             Content        Date  rs_title  \\\n",
       "0   Wednesday, 05 Jun, 2024 Sea Shepherd Global s...  2024-06-05       0.0   \n",
       "1   Today, the Environmental Justice Foundation c...  2024-05-24       0.0   \n",
       "2   A boat captain from Sambro, N.S., with a hist...  2023-09-13       0.0   \n",
       "3                                         no content  2023-10-31       0.0   \n",
       "4   Early this morning, the Fremantle Highway, a ...  2023-07-26       0.0   \n",
       "\n",
       "   rs_content_q  rs_content_kw  \n",
       "0      0.007233       0.003230  \n",
       "1      0.019755       0.005909  \n",
       "2      0.020957       0.000367  \n",
       "3      0.000000       0.000000  \n",
       "4      0.015843       0.000194  "
      ]
     },
     "execution_count": 26,
     "metadata": {},
     "output_type": "execute_result"
    }
   ],
   "source": [
    "df = df.fillna('no content')\n",
    "df.head()"
   ]
  },
  {
   "cell_type": "code",
   "execution_count": 19,
   "id": "f900aaba-c5f1-4e5a-82b3-d38f59a3e027",
   "metadata": {},
   "outputs": [],
   "source": [
    "from sklearn.feature_extraction.text import TfidfVectorizer\n",
    "corpus = ['This is the first document.',\n",
    "          'This document is the second document.',\n",
    "          'And this is the third one.',\n",
    "          'Is this the first document?']\n",
    "vectorizer = TfidfVectorizer()\n",
    "X = vectorizer.fit_transform(corpus)\n",
    "# make a list of words without repetution\n",
    "y = vectorizer.get_feature_names_out()"
   ]
  },
  {
   "cell_type": "code",
   "execution_count": 20,
   "id": "04bb5b2f-9185-41f0-8788-f794358144a9",
   "metadata": {},
   "outputs": [
    {
     "data": {
      "text/plain": [
       "<4x9 sparse matrix of type '<class 'numpy.float64'>'\n",
       "\twith 21 stored elements in Compressed Sparse Row format>"
      ]
     },
     "execution_count": 20,
     "metadata": {},
     "output_type": "execute_result"
    }
   ],
   "source": [
    "X"
   ]
  },
  {
   "cell_type": "code",
   "execution_count": 21,
   "id": "8f126c4e-ee75-4fe2-90e7-3fee4f4c03a6",
   "metadata": {},
   "outputs": [
    {
     "data": {
      "text/plain": [
       "(4, 9)"
      ]
     },
     "execution_count": 21,
     "metadata": {},
     "output_type": "execute_result"
    }
   ],
   "source": [
    "X.shape"
   ]
  },
  {
   "cell_type": "code",
   "execution_count": 22,
   "id": "f44806af-01c8-4c08-b345-92cf9d0f077a",
   "metadata": {},
   "outputs": [
    {
     "data": {
      "text/plain": [
       "array(['and', 'document', 'first', 'is', 'one', 'second', 'the', 'third',\n",
       "       'this'], dtype=object)"
      ]
     },
     "execution_count": 22,
     "metadata": {},
     "output_type": "execute_result"
    }
   ],
   "source": [
    "y"
   ]
  },
  {
   "cell_type": "code",
   "execution_count": 23,
   "id": "d1ecda79-a5fa-4ce9-896b-10d0d760f7da",
   "metadata": {},
   "outputs": [
    {
     "data": {
      "text/plain": [
       "9"
      ]
     },
     "execution_count": 23,
     "metadata": {},
     "output_type": "execute_result"
    }
   ],
   "source": [
    "len(y)"
   ]
  },
  {
   "cell_type": "code",
   "execution_count": 31,
   "id": "c09121ed-ce19-4622-a643-cdc6ec228185",
   "metadata": {},
   "outputs": [
    {
     "data": {
      "text/plain": [
       "0      Vessel caught misreporting catch amount\n",
       "1      Vessel caught misreporting catch amount\n",
       "2      Vessel caught misreporting catch amount\n",
       "3      Vessel caught misreporting catch amount\n",
       "4      Vessel caught misreporting catch amount\n",
       "                        ...                   \n",
       "164       Vessel caught bypassing quota system\n",
       "165       Vessel caught bypassing quota system\n",
       "166       Vessel caught bypassing quota system\n",
       "167       Vessel caught bypassing quota system\n",
       "168       Vessel caught bypassing quota system\n",
       "Name: Query, Length: 169, dtype: object"
      ]
     },
     "execution_count": 31,
     "metadata": {},
     "output_type": "execute_result"
    }
   ],
   "source": [
    "df['Query']"
   ]
  },
  {
   "cell_type": "code",
   "execution_count": 35,
   "id": "6359258f-e3c4-4d13-b8e7-b5c2f14c9f3c",
   "metadata": {},
   "outputs": [],
   "source": [
    "X = vectorizer.fit_transform(df['Query'].tolist())\n",
    "y = vectorizer.get_feature_names_out()"
   ]
  },
  {
   "cell_type": "code",
   "execution_count": 37,
   "id": "9569c9c4-3493-4472-b795-79808c04716d",
   "metadata": {},
   "outputs": [
    {
     "data": {
      "text/plain": [
       "(169, 30)"
      ]
     },
     "execution_count": 37,
     "metadata": {},
     "output_type": "execute_result"
    }
   ],
   "source": [
    "X.shape"
   ]
  },
  {
   "cell_type": "code",
   "execution_count": 38,
   "id": "169ff2aa-11d9-4a06-be6e-33f76bb2eabd",
   "metadata": {},
   "outputs": [
    {
     "data": {
      "text/plain": [
       "array(['amount', 'area', 'atlantic', 'bypassing', 'catch', 'caught',\n",
       "       'falsifying', 'fish', 'fishing', 'haddock', 'in', 'inaccurate',\n",
       "       'incorrect', 'logs', 'misreporting', 'near', 'north', 'protected',\n",
       "       'quantities', 'quota', 'records', 'reports', 'size', 'species',\n",
       "       'system', 'tuna', 'underreporting', 'unrecorded', 'vessel', 'with'],\n",
       "      dtype=object)"
      ]
     },
     "execution_count": 38,
     "metadata": {},
     "output_type": "execute_result"
    }
   ],
   "source": [
    "y"
   ]
  },
  {
   "cell_type": "code",
   "execution_count": 39,
   "id": "8837eb24-57d0-4d64-9e30-fe20286dcf1d",
   "metadata": {},
   "outputs": [
    {
     "data": {
      "text/plain": [
       "30"
      ]
     },
     "execution_count": 39,
     "metadata": {},
     "output_type": "execute_result"
    }
   ],
   "source": [
    "len(y)"
   ]
  },
  {
   "cell_type": "code",
   "execution_count": 56,
   "id": "a1cc90c8-db75-45f2-852e-6742800a8399",
   "metadata": {},
   "outputs": [
    {
     "data": {
      "text/plain": [
       "array([['amount', 'area', 'atlantic', 'bypassing', 'catch', 'caught',\n",
       "        'falsifying', 'fish', 'fishing', 'haddock', 'in', 'inaccurate',\n",
       "        'incorrect', 'logs', 'misreporting', 'near', 'north',\n",
       "        'protected', 'quantities', 'quota', 'records', 'reports', 'size',\n",
       "        'species', 'system', 'tuna', 'underreporting', 'unrecorded',\n",
       "        'vessel', 'with']], dtype=object)"
      ]
     },
     "execution_count": 56,
     "metadata": {},
     "output_type": "execute_result"
    }
   ],
   "source": [
    "y.reshape(1,-1)"
   ]
  },
  {
   "cell_type": "code",
   "execution_count": 58,
   "id": "998ba3d9-404e-4ae0-b467-072f38cdd6bf",
   "metadata": {},
   "outputs": [
    {
     "data": {
      "text/plain": [
       "(30, (30,))"
      ]
     },
     "execution_count": 58,
     "metadata": {},
     "output_type": "execute_result"
    }
   ],
   "source": [
    "len(y), y.shape"
   ]
  },
  {
   "cell_type": "code",
   "execution_count": 41,
   "id": "35333e30-c123-4ef0-b3f0-dada1aa807c6",
   "metadata": {},
   "outputs": [
    {
     "data": {
      "text/plain": [
       "(169, 30)"
      ]
     },
     "execution_count": 41,
     "metadata": {},
     "output_type": "execute_result"
    }
   ],
   "source": [
    "query_vectors = vectorizer.transform(df['Query'].tolist())\n",
    "query_vectors.shape"
   ]
  },
  {
   "cell_type": "code",
   "execution_count": 60,
   "id": "416a23cf-cfd6-415a-b8e5-9d55e65ad92d",
   "metadata": {},
   "outputs": [
    {
     "data": {
      "text/plain": [
       "<169x30 sparse matrix of type '<class 'numpy.float64'>'\n",
       "\twith 1013 stored elements in Compressed Sparse Row format>"
      ]
     },
     "execution_count": 60,
     "metadata": {},
     "output_type": "execute_result"
    }
   ],
   "source": [
    "query_vectors = vectorizer.transform(df['Query'].tolist())\n",
    "query_vectors"
   ]
  },
  {
   "cell_type": "code",
   "execution_count": 45,
   "id": "78253346-7ccb-4dc7-b2b6-472643eb6585",
   "metadata": {},
   "outputs": [
    {
     "data": {
      "text/plain": [
       "<169x30 sparse matrix of type '<class 'numpy.float64'>'\n",
       "\twith 1013 stored elements in Compressed Sparse Row format>"
      ]
     },
     "execution_count": 45,
     "metadata": {},
     "output_type": "execute_result"
    }
   ],
   "source": [
    "vectorizer.fit(all_texts)\n",
    "\n",
    "# Transform queries, titles, and content separately\n",
    "query_vectors = vectorizer.transform(df['Query'].tolist())\n",
    "query_vectors"
   ]
  },
  {
   "cell_type": "code",
   "execution_count": 54,
   "id": "250f5fec-e587-4806-81f9-0018eb21e58b",
   "metadata": {},
   "outputs": [
    {
     "name": "stdout",
     "output_type": "stream",
     "text": [
      "Cosine Similarity: 0.4999999999999999\n"
     ]
    }
   ],
   "source": [
    "from sklearn.metrics.pairwise import cosine_similarity\n",
    "import numpy as np\n",
    "\n",
    "# Sample vectors\n",
    "query_vector = np.array([1, 0, 1]).reshape(1, -1)\n",
    "content_vector = np.array([0, 1, 1]).reshape(1, -1)\n",
    "\n",
    "# Calculate cosine similarity\n",
    "similarity_matrix = cosine_similarity(query_vector, content_vector)\n",
    "\n",
    "# Extract the similarity score\n",
    "similarity_score = similarity_matrix[0][0]\n",
    "\n",
    "print(\"Cosine Similarity:\", similarity_score)\n"
   ]
  },
  {
   "cell_type": "code",
   "execution_count": 61,
   "id": "bcac3849-61e9-4150-ac1a-5e0249bf14d2",
   "metadata": {},
   "outputs": [],
   "source": [
    "word_groups = [\n",
    "    # About documents\n",
    "    ['unreport', 'unreported', 'unreporting', 'unreports'],\n",
    "    ['underreport', 'underreports', 'underreported', 'underreporting'],\n",
    "    ['undocumented', 'undocument', 'undocumenting', 'undocuments'],\n",
    "    ['misrepresent', 'misrepresented', 'misrepresenting', 'misreports'],\n",
    "    ['register', 'registers', 'registered', 'registering', 'unregister', 'unregisters', 'unregistered', 'unregistering'],\n",
    "    ['logbook', 'logged'],\n",
    "    ['declaration', 'declare', 'declares', 'declared', 'declaring', 'underdeclaration', 'under-declaration'],\n",
    "    ['label', 'mislabel', 'labeling', 'labeled', 'labels', 'mislabeling', 'mislabled', 'mislables'],\n",
    "    # About being false\n",
    "    ['false', 'falsify', 'falsifies', 'falsifying', 'falsifies', 'falsified', 'falsification', 'fake', 'manipulated', 'manipulate', 'manipulates'],\n",
    "    ['fraud', 'fraudulence', 'hoax'],\n",
    "    # About amounts\n",
    "    ['volume', 'quota', 'exceed', 'exceeds', 'exceeded', 'exceeding', 'inflation'],\n",
    "    # Fish, Ocean, port \n",
    "    ['catch', 'bycatch', 'harvest', 'juvenile', 'invasive'],\n",
    "    ['farmed', 'farming'], \n",
    "    ['ocean', 'sea', 'seas'],\n",
    "    ['port'],\n",
    "    ['transshipment'],\n",
    "    ['landing'],\n",
    "    ['selective'],    \n",
    "#    ['commercial', 'industrial'],\n",
    "    # Crime\n",
    "    ['offend', 'offended', 'offends', 'violate', 'violates', 'violated', 'violation'],\n",
    "    ['regulation', 'regulate', 'regulated', 'regulates', 'regulating', 'regulations', 'regulates'],\n",
    "    ['alter', 'altering', 'alters'],\n",
    "    ['exploit', 'exploited', 'exploiting', 'exploits'],\n",
    "    ['impose', 'imposed', 'imposes', 'imposing'],\n",
    "    ['inspector', 'inspectors', 'inspect', 'inspects', 'inspected', 'inspecting','investigate', 'investigates', 'investigated','investigating','investigator'],\n",
    "]"
   ]
  },
  {
   "cell_type": "code",
   "execution_count": 77,
   "id": "f97aaf54-ec80-4795-9b0e-7c17e3fdb6bc",
   "metadata": {},
   "outputs": [
    {
     "data": {
      "text/plain": [
       "0    Vessel caught misreporting catch amount\n",
       "1    Vessel caught misreporting catch amount\n",
       "2    Vessel caught misreporting catch amount\n",
       "3    Vessel caught misreporting catch amount\n",
       "4    Vessel caught misreporting catch amount\n",
       "Name: Query, dtype: object"
      ]
     },
     "execution_count": 77,
     "metadata": {},
     "output_type": "execute_result"
    }
   ],
   "source": [
    "dh = df['Query'].head()\n",
    "dh"
   ]
  },
  {
   "cell_type": "code",
   "execution_count": 79,
   "id": "b5e0b13e-8afd-4e09-b0a9-585ba1339738",
   "metadata": {},
   "outputs": [
    {
     "data": {
      "text/plain": [
       "['Vessel caught misreporting catch amount',\n",
       " 'Vessel caught misreporting catch amount',\n",
       " 'Vessel caught misreporting catch amount',\n",
       " 'Vessel caught misreporting catch amount',\n",
       " 'Vessel caught misreporting catch amount']"
      ]
     },
     "execution_count": 79,
     "metadata": {},
     "output_type": "execute_result"
    }
   ],
   "source": [
    "dh.tolist()"
   ]
  },
  {
   "cell_type": "code",
   "execution_count": 83,
   "id": "a8b4a9e6-303f-4d5e-b209-f3139dde8b3f",
   "metadata": {},
   "outputs": [
    {
     "name": "stdout",
     "output_type": "stream",
     "text": [
      "  (0, 28)\t0.229200305656373\n",
      "  (0, 14)\t0.5143204753311834\n",
      "  (0, 5)\t0.229200305656373\n",
      "  (0, 4)\t0.33531308007923366\n",
      "  (0, 0)\t0.7197041244545798\n",
      "  (1, 28)\t0.229200305656373\n",
      "  (1, 14)\t0.5143204753311834\n",
      "  (1, 5)\t0.229200305656373\n",
      "  (1, 4)\t0.33531308007923366\n",
      "  (1, 0)\t0.7197041244545798\n",
      "  (2, 28)\t0.229200305656373\n",
      "  (2, 14)\t0.5143204753311834\n",
      "  (2, 5)\t0.229200305656373\n",
      "  (2, 4)\t0.33531308007923366\n",
      "  (2, 0)\t0.7197041244545798\n",
      "  (3, 28)\t0.229200305656373\n",
      "  (3, 14)\t0.5143204753311834\n",
      "  (3, 5)\t0.229200305656373\n",
      "  (3, 4)\t0.33531308007923366\n",
      "  (3, 0)\t0.7197041244545798\n",
      "  (4, 28)\t0.229200305656373\n",
      "  (4, 14)\t0.5143204753311834\n",
      "  (4, 5)\t0.229200305656373\n",
      "  (4, 4)\t0.33531308007923366\n",
      "  (4, 0)\t0.7197041244545798\n"
     ]
    }
   ],
   "source": [
    "query_vectors = vectorizer.transform(dh.tolist())\n",
    "print(query_vectors)"
   ]
  },
  {
   "cell_type": "code",
   "execution_count": 87,
   "id": "6e86af70-8925-4554-b1c3-72ae6608d847",
   "metadata": {},
   "outputs": [
    {
     "data": {
      "text/plain": [
       "scipy.sparse._csr.csr_matrix"
      ]
     },
     "execution_count": 87,
     "metadata": {},
     "output_type": "execute_result"
    }
   ],
   "source": [
    "type(query_vectors)"
   ]
  },
  {
   "cell_type": "code",
   "execution_count": 84,
   "id": "13e9222e-494d-401e-9133-c258bdd9e5ff",
   "metadata": {},
   "outputs": [
    {
     "data": {
      "text/plain": [
       "(5, 30)"
      ]
     },
     "execution_count": 84,
     "metadata": {},
     "output_type": "execute_result"
    }
   ],
   "source": [
    "query_vectors.shape"
   ]
  },
  {
   "cell_type": "code",
   "execution_count": 86,
   "id": "cd7141d7-57a3-41e9-b935-556839bbc8f4",
   "metadata": {},
   "outputs": [
    {
     "name": "stdout",
     "output_type": "stream",
     "text": [
      "  (0, 28)\t0.229200305656373\n",
      "  (0, 14)\t0.5143204753311834\n",
      "  (0, 5)\t0.229200305656373\n",
      "  (0, 4)\t0.33531308007923366\n",
      "  (0, 0)\t0.7197041244545798\n"
     ]
    }
   ],
   "source": [
    "print(query_vectors[0])\n",
    "# the second elemet in pair is the place of the word betweeen 30 words we have, words in alphabet orders."
   ]
  },
  {
   "cell_type": "code",
   "execution_count": null,
   "id": "5bef7f13-eb85-4627-8b46-c6d202b1f88f",
   "metadata": {},
   "outputs": [],
   "source": [
    "query_vectors = vectorizer.transform(df['Query'].tolist())"
   ]
  },
  {
   "cell_type": "code",
   "execution_count": null,
   "id": "b87ef1b8-087a-4729-8101-8ced781fdc74",
   "metadata": {},
   "outputs": [],
   "source": [
    "title_vectors = vectorizer.transform(df['Title'].tolist())"
   ]
  },
  {
   "cell_type": "code",
   "execution_count": null,
   "id": "0ab48445-365d-405e-81dd-19f45c21bccb",
   "metadata": {},
   "outputs": [],
   "source": [
    "content_vectors = vectorizer.transform(df['Content'].tolist())"
   ]
  },
  {
   "cell_type": "code",
   "execution_count": 88,
   "id": "e44e1729-d672-4ffc-afe6-699b142cbdd5",
   "metadata": {},
   "outputs": [
    {
     "data": {
      "text/plain": [
       "array([[0.00869846]])"
      ]
     },
     "execution_count": 88,
     "metadata": {},
     "output_type": "execute_result"
    }
   ],
   "source": [
    "cosine_similarity(query_vector, content_vector)"
   ]
  },
  {
   "cell_type": "code",
   "execution_count": 100,
   "id": "5bef33f4-fe7b-4361-a6f2-0a073c98a4f8",
   "metadata": {},
   "outputs": [],
   "source": [
    "quary_text = df['Query'].tolist()\n",
    "\n",
    "title_text = df['Title'].tolist()\n",
    "\n",
    "content_text = df['Content'].tolist()"
   ]
  },
  {
   "cell_type": "code",
   "execution_count": 102,
   "id": "5cbe807a-5fdb-4307-b227-ae88e1e4c33b",
   "metadata": {},
   "outputs": [
    {
     "data": {
      "text/plain": [
       "<1x30 sparse matrix of type '<class 'numpy.float64'>'\n",
       "\twith 5 stored elements in Compressed Sparse Row format>"
      ]
     },
     "execution_count": 102,
     "metadata": {},
     "output_type": "execute_result"
    }
   ],
   "source": [
    "query_vector = query_vectors[4]\n",
    "query_vector"
   ]
  },
  {
   "cell_type": "code",
   "execution_count": 158,
   "id": "b4614970-359f-4261-b115-a56f363fb1f7",
   "metadata": {},
   "outputs": [],
   "source": [
    "from sklearn.feature_extraction.text import TfidfVectorizer\n",
    "from sklearn.metrics.pairwise import cosine_similarity\n",
    "import pandas as pd\n",
    "\n",
    "\n",
    "# Flatten the list of keywords\n",
    "\n",
    "#keywords = [\" \".join(keyword_list) for keyword_list in word_groups]\n",
    "\n",
    "#[keyword for sublist in word_groups for keyword in sublist]\n",
    "\n",
    "# Fill None values with an empty string\n",
    "df = df.fillna('no content')\n",
    "\n",
    "\n",
    "keywords = [\"\".join(keyword_list[0]) for keyword_list in word_groups]\n",
    "\n",
    "# Initialize the vectorizer\n",
    "vectorizer = TfidfVectorizer()\n",
    "\n",
    "\n",
    "# Combine all text data (queries, titles, and content) for consistent vectorization\n",
    "#all_texts = df['Query'].tolist() + df['Title'].tolist() \\\n",
    "#+ df['Content'].tolist()+ keywords\n",
    "all_texts = df['Query'].tolist() + df['Title'].tolist() + df['Content'].tolist()+ keywords\n",
    "\n",
    "\n",
    "\n",
    "for text in all_texts:\n",
    "    #rep_word_text(text, word_groups)\n",
    "    text = rep_word_text(text, word_groups)\n",
    "\n",
    "# Fit the vectorizer on all texts\n",
    "vectorizer.fit(all_texts)\n",
    "\n",
    "# Transform queries, titles, and content separately\n",
    "query_vectors = vectorizer.transform(df['Query'].tolist())\n",
    "title_vectors = vectorizer.transform(df['Title'].tolist())\n",
    "content_vectors = vectorizer.transform(df['Content'].tolist())\n",
    "keywords_vectors = vectorizer.transform(keywords)\n",
    "\n",
    "\n",
    "\n",
    "# Calculate cosine similarity\n",
    "relevance_scores_title = []\n",
    "relevance_scores_content = []\n",
    "relevance_scores_keywords = []\n",
    "\n",
    "num_documents = len(df)\n",
    "num_keywords = len(keywords)\n",
    "\n",
    "for i in range(len(df)):\n",
    "    query_vector = query_vectors[i]\n",
    "    title_vector = title_vectors[i]\n",
    "    content_vector = content_vectors[i]\n",
    "   # keywords_vector = keywords_vectors[i]\n",
    "    \n",
    "\n",
    "    #rs_title = cosine_similarity(query_vector, title_vector)[0][0]\n",
    "    rs_content_q = cosine_similarity(query_vector, content_vector)[0][0]\n",
    "    #rs_content_kw = cosine_similarity(keywords_vector, content_vector)[0][0]\n",
    "    \n",
    "     # Calculate the average similarity score for the keyword groups\n",
    "    rs_content_kw = 0\n",
    "    for j in range(len(keywords)):\n",
    "        keywords_vector = keywords_vectors[j]\n",
    "        rs_content_kw += cosine_similarity(keywords_vector, content_vector)[0][0]\n",
    "        rs_title = cosine_similarity(keywords_vector, title_vector)[0][0]\n",
    "    rs_content_kw /= len(keywords)  # Average similarity for all keyword groups\n",
    "    rs_title /= len(keywords)\n",
    "\n",
    "    relevance_scores_title.append(rs_title)\n",
    "    relevance_scores_content.append(rs_content_q)\n",
    "    relevance_scores_keywords.append(rs_content_kw)\n",
    "\n",
    "# Add relevance scores to the DataFrame\n",
    "df['rs_title'] = relevance_scores_title\n",
    "df['rs_content_q'] = relevance_scores_content\n",
    "df['rs_content_kw'] = relevance_scores_keywords\n",
    "\n",
    "\n",
    "#df.head(20)"
   ]
  },
  {
   "cell_type": "code",
   "execution_count": 124,
   "id": "ad77fedb-02f0-40c8-9257-e313d41573e5",
   "metadata": {},
   "outputs": [
    {
     "data": {
      "image/png": "[encoded data removed]",
      "text/plain": [
       "<Figure size 1000x600 with 1 Axes>"
      ]
     },
     "metadata": {},
     "output_type": "display_data"
    }
   ],
   "source": [
    "import matplotlib.pyplot as plt\n",
    "import seaborn as sns\n",
    "import seaborn\n",
    "# Generate query names Q1, Q2, ..., Q10\n",
    "query_names = [f'Q{i}' for i in range(1, 11)]  # Adjust range as per your actual number of queries\n",
    "seaborn.set(style=\"whitegrid\")\n",
    "plt.figure(figsize=(10, 6))\n",
    "sns.violinplot(data=df, x=\"Query\", y=\"rs_content_q\", hue=\"Engine\", fill=False)\n",
    "plt.xticks(ticks=range(len(query_names)), labels=query_names)  # Set xticks with query names\n",
    "plt.xlabel('Query')\n",
    "plt.ylabel('Relevance Score (Content)')\n",
    "plt.title('Relevance Scores of Queries')\n",
    "plt.legend(title='Engine', loc='upper right')\n",
    "plt.tight_layout()\n",
    "plt.show()\n"
   ]
  },
  {
   "cell_type": "code",
   "execution_count": 122,
   "id": "04927542-d87d-4fe4-bb3b-296143d74920",
   "metadata": {},
   "outputs": [
    {
     "name": "stdout",
     "output_type": "stream",
     "text": [
      "Requirement already satisfied: seaborn in ./env/lib/python3.12/site-packages (0.13.2)\n",
      "Requirement already satisfied: numpy!=1.24.0,>=1.20 in ./env/lib/python3.12/site-packages (from seaborn) (1.26.4)\n",
      "Requirement already satisfied: pandas>=1.2 in ./env/lib/python3.12/site-packages (from seaborn) (2.2.1)\n",
      "Requirement already satisfied: matplotlib!=3.6.1,>=3.4 in ./env/lib/python3.12/site-packages (from seaborn) (3.8.4)\n",
      "Requirement already satisfied: contourpy>=1.0.1 in ./env/lib/python3.12/site-packages (from matplotlib!=3.6.1,>=3.4->seaborn) (1.2.0)\n",
      "Requirement already satisfied: cycler>=0.10 in ./env/lib/python3.12/site-packages (from matplotlib!=3.6.1,>=3.4->seaborn) (0.11.0)\n",
      "Requirement already satisfied: fonttools>=4.22.0 in ./env/lib/python3.12/site-packages (from matplotlib!=3.6.1,>=3.4->seaborn) (4.51.0)\n",
      "Requirement already satisfied: kiwisolver>=1.3.1 in ./env/lib/python3.12/site-packages (from matplotlib!=3.6.1,>=3.4->seaborn) (1.4.4)\n",
      "Requirement already satisfied: packaging>=20.0 in ./env/lib/python3.12/site-packages (from matplotlib!=3.6.1,>=3.4->seaborn) (23.2)\n",
      "Requirement already satisfied: pillow>=8 in ./env/lib/python3.12/site-packages (from matplotlib!=3.6.1,>=3.4->seaborn) (10.3.0)\n",
      "Requirement already satisfied: pyparsing>=2.3.1 in ./env/lib/python3.12/site-packages (from matplotlib!=3.6.1,>=3.4->seaborn) (3.1.2)\n",
      "Requirement already satisfied: python-dateutil>=2.7 in ./env/lib/python3.12/site-packages (from matplotlib!=3.6.1,>=3.4->seaborn) (2.9.0.post0)\n",
      "Requirement already satisfied: pytz>=2020.1 in ./env/lib/python3.12/site-packages (from pandas>=1.2->seaborn) (2024.1)\n",
      "Requirement already satisfied: tzdata>=2022.7 in ./env/lib/python3.12/site-packages (from pandas>=1.2->seaborn) (2023.3)\n",
      "Requirement already satisfied: six>=1.5 in ./env/lib/python3.12/site-packages (from python-dateutil>=2.7->matplotlib!=3.6.1,>=3.4->seaborn) (1.16.0)\n"
     ]
    }
   ],
   "source": [
    "!pip install seaborn"
   ]
  },
  {
   "cell_type": "code",
   "execution_count": 125,
   "id": "7d67ed2e-96d6-4e5a-9b2e-a3b983c753e4",
   "metadata": {},
   "outputs": [
    {
     "data": {
      "image/png": "[encoded data removed]",
      "text/plain": [
       "<Figure size 1000x600 with 1 Axes>"
      ]
     },
     "metadata": {},
     "output_type": "display_data"
    }
   ],
   "source": [
    "import matplotlib.pyplot as plt\n",
    "import seaborn as sns\n",
    "\n",
    "\n",
    "# Generate query names Q1, Q2, ..., Q10\n",
    "query_names = [f'Q{i}' for i in range(1, 11)]  # Adjust range as per your actual number of queries\n",
    "\n",
    "plt.figure(figsize=(10, 6))\n",
    "sns.violinplot(data=df, x=\"Query\", y=\"rs_content_kw\", hue=\"Engine\", fill=False)\n",
    "plt.xticks(ticks=range(len(query_names)), labels=query_names)  # Set xticks with query names\n",
    "plt.xlabel('Query')\n",
    "plt.ylabel('Relevance Score (Content_keywords)')\n",
    "plt.title('Relevance Scores of Queries')\n",
    "plt.legend(title='Engine', loc='upper right')\n",
    "plt.tight_layout()\n",
    "plt.show()\n"
   ]
  },
  {
   "cell_type": "code",
   "execution_count": 157,
   "id": "c9c0a625-cc9a-44e6-8264-fdd6e0381284",
   "metadata": {},
   "outputs": [],
   "source": [
    "#d1= pd.read_excel('numbers_and_dates.xlsx')\n",
    "#d1.head(10)"
   ]
  },
  {
   "cell_type": "code",
   "execution_count": 156,
   "id": "50fb78dc-d92c-4200-972f-0f08bf497d86",
   "metadata": {},
   "outputs": [],
   "source": [
    "#d2= pd.read_excel('search_results_articles.xlsx')\n",
    "#d2.head(10)"
   ]
  },
  {
   "cell_type": "code",
   "execution_count": 164,
   "id": "009ff46f-75b0-4337-821c-fecfa8ef38a2",
   "metadata": {},
   "outputs": [
    {
     "data": {
      "text/html": [
       "<div>\n",
       "<style scoped>\n",
       "    .dataframe tbody tr th:only-of-type {\n",
       "        vertical-align: middle;\n",
       "    }\n",
       "\n",
       "    .dataframe tbody tr th {\n",
       "        vertical-align: top;\n",
       "    }\n",
       "\n",
       "    .dataframe thead th {\n",
       "        text-align: right;\n",
       "    }\n",
       "</style>\n",
       "<table border=\"1\" class=\"dataframe\">\n",
       "  <thead>\n",
       "    <tr style=\"text-align: right;\">\n",
       "      <th></th>\n",
       "      <th>Query</th>\n",
       "      <th>Engine</th>\n",
       "      <th>Title</th>\n",
       "      <th>Dates</th>\n",
       "      <th>Link</th>\n",
       "      <th>Content</th>\n",
       "    </tr>\n",
       "  </thead>\n",
       "  <tbody>\n",
       "    <tr>\n",
       "      <th>0</th>\n",
       "      <td>Vessel caught misreporting catch amount</td>\n",
       "      <td>Google</td>\n",
       "      <td>Sea Shepherd Global</td>\n",
       "      <td>2 weeks ago</td>\n",
       "      <td>https://www.seashepherdglobal.org/latest-news/...</td>\n",
       "      <td>Wednesday, 05 Jun, 2024 Sea Shepherd Global s...</td>\n",
       "    </tr>\n",
       "    <tr>\n",
       "      <th>1</th>\n",
       "      <td>Vessel caught misreporting catch amount</td>\n",
       "      <td>Google</td>\n",
       "      <td>Move the IUU Fight Up the Food Chain | Proceed...</td>\n",
       "      <td>Oct 31, 2023</td>\n",
       "      <td>https://www.usni.org/magazines/proceedings/202...</td>\n",
       "      <td>Drifting among the ice fields of the Bering S...</td>\n",
       "    </tr>\n",
       "    <tr>\n",
       "      <th>2</th>\n",
       "      <td>Vessel caught misreporting catch amount</td>\n",
       "      <td>Google</td>\n",
       "      <td>New rules tighten controls on EU…</td>\n",
       "      <td>1 month ago</td>\n",
       "      <td>https://ejfoundation.org/news-media/new-rules-...</td>\n",
       "      <td>Today, the Environmental Justice Foundation c...</td>\n",
       "    </tr>\n",
       "    <tr>\n",
       "      <th>3</th>\n",
       "      <td>Vessel caught misreporting catch amount</td>\n",
       "      <td>Google</td>\n",
       "      <td>Surprise! Media is misreporting the source of ...</td>\n",
       "      <td>Jul 26, 2023</td>\n",
       "      <td>https://electrek.co/2023/07/26/surprise-media-...</td>\n",
       "      <td>Early this morning, the Fremantle Highway, a ...</td>\n",
       "    </tr>\n",
       "    <tr>\n",
       "      <th>4</th>\n",
       "      <td>Vessel caught misreporting catch amount</td>\n",
       "      <td>Google</td>\n",
       "      <td>Sea Shepherd Global</td>\n",
       "      <td>Mar 25, 2024</td>\n",
       "      <td>https://www.seashepherdglobal.org/latest-news/...</td>\n",
       "      <td>Monday, 25 Mar, 2024 In a decisive strike aga...</td>\n",
       "    </tr>\n",
       "    <tr>\n",
       "      <th>...</th>\n",
       "      <td>...</td>\n",
       "      <td>...</td>\n",
       "      <td>...</td>\n",
       "      <td>...</td>\n",
       "      <td>...</td>\n",
       "      <td>...</td>\n",
       "    </tr>\n",
       "    <tr>\n",
       "      <th>290</th>\n",
       "      <td>Vessel caught with incorrect catch reports</td>\n",
       "      <td>Yahoo</td>\n",
       "      <td>Conservationists say Santa Rosa Commission got...</td>\n",
       "      <td>11 months ago</td>\n",
       "      <td>https://r.search.yahoo.com/_ylt=AwrjZS44F3Zm8N...</td>\n",
       "      <td>NaN</td>\n",
       "    </tr>\n",
       "    <tr>\n",
       "      <th>291</th>\n",
       "      <td>Vessel caught with incorrect catch reports</td>\n",
       "      <td>Yahoo</td>\n",
       "      <td>To Contain China, the U.S. Bets on a 40-Year-O...</td>\n",
       "      <td>3 months ago</td>\n",
       "      <td>https://r.search.yahoo.com/_ylt=AwrjZS44F3Zm8N...</td>\n",
       "      <td>NaN</td>\n",
       "    </tr>\n",
       "    <tr>\n",
       "      <th>292</th>\n",
       "      <td>Vessel caught with incorrect catch reports</td>\n",
       "      <td>Yahoo</td>\n",
       "      <td>Hurricane Ian’s catastrophic toll includes at ...</td>\n",
       "      <td>2 years ago</td>\n",
       "      <td>https://r.search.yahoo.com/_ylt=AwrjZS44F3Zm8N...</td>\n",
       "      <td>NaN</td>\n",
       "    </tr>\n",
       "    <tr>\n",
       "      <th>293</th>\n",
       "      <td>Vessel caught with incorrect catch reports</td>\n",
       "      <td>Yahoo</td>\n",
       "      <td>More yacht buyers say they paid big money but ...</td>\n",
       "      <td>1 year ago</td>\n",
       "      <td>https://r.search.yahoo.com/_ylt=AwrjZS44F3Zm8N...</td>\n",
       "      <td>NaN</td>\n",
       "    </tr>\n",
       "    <tr>\n",
       "      <th>294</th>\n",
       "      <td>Vessel caught with incorrect catch reports</td>\n",
       "      <td>Yahoo</td>\n",
       "      <td>Can electric woks produce great stir-fry?</td>\n",
       "      <td>1 month ago</td>\n",
       "      <td>https://r.search.yahoo.com/_ylt=AwrjZS44F3Zm8N...</td>\n",
       "      <td>NaN</td>\n",
       "    </tr>\n",
       "  </tbody>\n",
       "</table>\n",
       "<p>295 rows × 6 columns</p>\n",
       "</div>"
      ],
      "text/plain": [
       "                                          Query  Engine  \\\n",
       "0       Vessel caught misreporting catch amount  Google   \n",
       "1       Vessel caught misreporting catch amount  Google   \n",
       "2       Vessel caught misreporting catch amount  Google   \n",
       "3       Vessel caught misreporting catch amount  Google   \n",
       "4       Vessel caught misreporting catch amount  Google   \n",
       "..                                          ...     ...   \n",
       "290  Vessel caught with incorrect catch reports   Yahoo   \n",
       "291  Vessel caught with incorrect catch reports   Yahoo   \n",
       "292  Vessel caught with incorrect catch reports   Yahoo   \n",
       "293  Vessel caught with incorrect catch reports   Yahoo   \n",
       "294  Vessel caught with incorrect catch reports   Yahoo   \n",
       "\n",
       "                                                 Title          Dates  \\\n",
       "0                                  Sea Shepherd Global    2 weeks ago   \n",
       "1    Move the IUU Fight Up the Food Chain | Proceed...   Oct 31, 2023   \n",
       "2                    New rules tighten controls on EU…    1 month ago   \n",
       "3    Surprise! Media is misreporting the source of ...   Jul 26, 2023   \n",
       "4                                  Sea Shepherd Global   Mar 25, 2024   \n",
       "..                                                 ...            ...   \n",
       "290  Conservationists say Santa Rosa Commission got...  11 months ago   \n",
       "291  To Contain China, the U.S. Bets on a 40-Year-O...   3 months ago   \n",
       "292  Hurricane Ian’s catastrophic toll includes at ...    2 years ago   \n",
       "293  More yacht buyers say they paid big money but ...     1 year ago   \n",
       "294          Can electric woks produce great stir-fry?    1 month ago   \n",
       "\n",
       "                                                  Link  \\\n",
       "0    https://www.seashepherdglobal.org/latest-news/...   \n",
       "1    https://www.usni.org/magazines/proceedings/202...   \n",
       "2    https://ejfoundation.org/news-media/new-rules-...   \n",
       "3    https://electrek.co/2023/07/26/surprise-media-...   \n",
       "4    https://www.seashepherdglobal.org/latest-news/...   \n",
       "..                                                 ...   \n",
       "290  https://r.search.yahoo.com/_ylt=AwrjZS44F3Zm8N...   \n",
       "291  https://r.search.yahoo.com/_ylt=AwrjZS44F3Zm8N...   \n",
       "292  https://r.search.yahoo.com/_ylt=AwrjZS44F3Zm8N...   \n",
       "293  https://r.search.yahoo.com/_ylt=AwrjZS44F3Zm8N...   \n",
       "294  https://r.search.yahoo.com/_ylt=AwrjZS44F3Zm8N...   \n",
       "\n",
       "                                               Content  \n",
       "0     Wednesday, 05 Jun, 2024 Sea Shepherd Global s...  \n",
       "1     Drifting among the ice fields of the Bering S...  \n",
       "2     Today, the Environmental Justice Foundation c...  \n",
       "3     Early this morning, the Fremantle Highway, a ...  \n",
       "4     Monday, 25 Mar, 2024 In a decisive strike aga...  \n",
       "..                                                 ...  \n",
       "290                                                NaN  \n",
       "291                                                NaN  \n",
       "292                                                NaN  \n",
       "293                                                NaN  \n",
       "294                                                NaN  \n",
       "\n",
       "[295 rows x 6 columns]"
      ]
     },
     "execution_count": 164,
     "metadata": {},
     "output_type": "execute_result"
    }
   ],
   "source": [
    "df3= pd.read_excel('df_content.xlsx')\n",
    "df3"
   ]
  },
  {
   "cell_type": "code",
   "execution_count": 217,
   "id": "0860e0d5-c433-445c-9057-8312d2bdf1e9",
   "metadata": {},
   "outputs": [],
   "source": [
    "word_groups2 = [\n",
    "    # About documents\n",
    "    ['unreport', 'unreported', 'unreporting', 'unreports',\n",
    "         'report','reports', 'reported', 'reporting',\n",
    "         'misreport', 'misreports', 'misreported', 'misreporting',\n",
    "         'nonreport', 'nonreports', 'nonreported', 'nonreporting' ,\n",
    "        'non-report', 'non-reports', 'non-reporting', 'non-reported', 'non-reportable',\n",
    "         'non report', 'non reports', 'non reporting' , 'non reported',\n",
    "        'underreport', 'underreports', 'underreported', 'underreporting'],\n",
    "    \n",
    "    ['unrecord', 'unrecords', 'unrecorded', 'unrecording', \n",
    "         'record', 'records', 'recorded', 'recording', 'recordable',\n",
    "         'non-record', 'non-records', 'non-recording', 'non-recorded', 'non-recordable'],\n",
    "    \n",
    "    ['undocument','undocumented', 'undocumenting', 'undocuments'],\n",
    "    \n",
    "    ['misrepresent', 'misrepresented', 'misrepresenting', 'misreports', 'represent',\n",
    "           'represents', 'represented', 'representing' ],\n",
    "    \n",
    "    ['register', 'registers', 'registered', 'registering', 'unregister', 'unregisters', 'unregistered', 'unregistering'],\n",
    "    \n",
    "    ['log','logbook', 'logged','logs'],\n",
    "    \n",
    "    ['declare', 'declaration', 'declares', 'declared', 'declaring', 'underdeclaration', 'under-declaration', 'undeclare', 'undeclares', 'undeclared', 'undeclareing' ],\n",
    "    \n",
    "    ['label', 'mislabel', 'labeling', 'labeled', 'labels', 'mislabeling', 'mislabled', 'mislables'],\n",
    "    \n",
    "    ['evade', 'evades', 'evading', 'evaded'],\n",
    "    ['disappear', 'disappears', 'disappeared', 'disappearing', 'appear', 'appears', 'appeared','appearing','reappear', 'reappears', 'reappeared', 'reappearing' ],\n",
    "    \n",
    "    ['reveal','reveals', 'revealed', 'revealing', 'discover','discovers', 'discovered', 'discovering', 'vanish', 'vanishs', 'vanished', 'vanishing' ],\n",
    "    ['endanger','endangers', 'endangered', 'endangering', 'protect', 'protects', 'protected', 'protecting', 'restrict', 'restricts', 'restricted', 'restricting'],\n",
    "    ['undisclose', 'undiscloses', 'undisclosing', 'undisclosed', 'disclose', 'discloses', 'disclosing', 'disclosed' ],\n",
    "    ['ban','banned', 'banns', 'banning', 'restrict', 'restricts', 'restricted', 'restricting'],\n",
    "    ['hide','hidden', 'hides', 'hiding'],\n",
    "    ['bypass', 'bypasses', 'bypassing', 'bypassed'],\n",
    "    ['load', 'loaded', 'loads', 'loading', 'loaded','offloads','offloading', 'offloaded','offload', 'overload', 'overloads', 'overloaded' ,'overloading' ],\n",
    "    ['vessel', 'ship', 'trawler', 'trawl', 'grid', 'protocol', 'device', 'devices', 'area', 'zone', 'boat', 'oceana','oceanic'],\n",
    "    # About being false\n",
    "    ['false', 'falsify', 'falsifies', 'falsifying', 'falsifies', 'falsified', 'falsification', 'fake', 'manipulated', 'manipulate', 'manipulates', 'manipulating', 'manipulation'],\n",
    "    ['fraud', 'fraudulence', 'hoax', 'illegal', 'inaccourate', 'fish', 'fishery', 'fisheries', 'fishing','news', 'marine'],\n",
    "    # About amounts\n",
    "    ['volume', 'quota', 'exceed', 'exceeds', 'exceeded', 'exceeding', 'inflation'],\n",
    "    # Fish, Ocean, port \n",
    "    ['catch', 'bycatch', 'harvest', 'juvenile', 'invasive'],\n",
    "    ['farmed', 'farming', 'fine'], \n",
    "    ['ocean', 'sea', 'seas', 'water', 'navy', 'army', 'waters'],\n",
    "    ['port', 'import', 'export', 'ports', 'imports', 'exports', 'imported', 'exported', 'importing', 'exporting'],\n",
    "    ['transshipment'],\n",
    "    ['landing', 'trade'],\n",
    "    ['selective', 'caught', 'catch', 'amount', 'by-catch','confiscate','transshipment','law','lawful'],    \n",
    "#    ['commercial', 'industrial'],\n",
    "    # Crime\n",
    "    ['offend', 'offended', 'offends', 'violate', 'violates', 'violated', 'violation'],\n",
    "    ['regulation', 'regulate', 'regulated', 'regulates', 'regulating', 'regulations', 'regulates', 'unregulate', 'unregulating', 'unregulates', 'unregulated'],\n",
    "    ['alter', 'altering', 'alters', 'altered'],\n",
    "    ['threaten', 'threatend', 'threatens', 'threatening'],\n",
    "    ['exploit', 'exploited', 'exploiting', 'exploits'],\n",
    "    ['impose', 'imposed', 'imposes', 'imposing'],\n",
    "    ['detect', 'detecting', 'detected', 'detects', 'prosecute', 'prosecutes', 'prosecuted', 'prosecuting'],\n",
    "    ['inspector', 'inspectors', 'inspect', 'inspects', 'inspected', 'inspecting','investigate', 'investigates', 'investigated','investigating','investigator'],\n",
    "]"
   ]
  },
  {
   "cell_type": "code",
   "execution_count": 162,
   "id": "859639ab-a410-406b-8efe-885247b353dd",
   "metadata": {},
   "outputs": [
    {
     "data": {
      "text/plain": [
       "(['unreport',\n",
       "  'unrecord',\n",
       "  'undocument',\n",
       "  'misrepresent',\n",
       "  'register',\n",
       "  'log',\n",
       "  'declare',\n",
       "  'label',\n",
       "  'evade',\n",
       "  'disappear',\n",
       "  'reveal',\n",
       "  'endanger',\n",
       "  'undisclose',\n",
       "  'ban',\n",
       "  'hide',\n",
       "  'bypass',\n",
       "  'load',\n",
       "  'vessel',\n",
       "  'false',\n",
       "  'fraud',\n",
       "  'volume',\n",
       "  'catch',\n",
       "  'farmed',\n",
       "  'ocean',\n",
       "  'port',\n",
       "  'transshipment',\n",
       "  'landing',\n",
       "  'selective',\n",
       "  'offend',\n",
       "  'regulation',\n",
       "  'alter',\n",
       "  'threaten',\n",
       "  'exploit',\n",
       "  'impose',\n",
       "  'detect',\n",
       "  'inspector'],\n",
       " 36)"
      ]
     },
     "execution_count": 162,
     "metadata": {},
     "output_type": "execute_result"
    }
   ],
   "source": [
    "keywords2 = [\"\".join(keyword_list[0]) for keyword_list in word_groups2]\n",
    "keywords2, len(keywords2)"
   ]
  },
  {
   "cell_type": "code",
   "execution_count": 169,
   "id": "e3b7a5e2-937c-4fb8-9776-069bdbdfd4bb",
   "metadata": {},
   "outputs": [],
   "source": [
    "from sklearn.feature_extraction.text import TfidfVectorizer\n",
    "from sklearn.metrics.pairwise import cosine_similarity\n",
    "import pandas as pd\n",
    "import nltk \n",
    "from nltk.corpus import wordnet \n",
    "import re\n",
    "from nltk.stem import WordNetLemmatizer\n",
    "from lemminflect import getInflection, getAllInflections\n",
    "\n",
    "\n",
    "# Flatten the list of keywords\n",
    "\n",
    "#keywords = [\" \".join(keyword_list) for keyword_list in word_groups]\n",
    "\n",
    "#[keyword for sublist in word_groups for keyword in sublist]\n",
    "\n",
    "# Fill None values with an empty string\n",
    "df3 = df3.fillna('no content')\n",
    "\n",
    "\n",
    "keywords2 = [\"\".join(keyword_list[0]) for keyword_list in word_groups2]\n",
    "\n",
    "# Initialize the vectorizer\n",
    "vectorizer = TfidfVectorizer()\n",
    "\n",
    "\n",
    "# Combine all text data (queries, titles, and content) for consistent vectorization\n",
    "#all_texts = df['Query'].tolist() + df['Title'].tolist() \\\n",
    "#+ df['Content'].tolist()+ keywords\n",
    "all_texts = df3['Query'].tolist() + df3['Title'].tolist() + df3['Content'].tolist()+ keywords2\n",
    "\n",
    "\n",
    "\n",
    "for text in all_texts:\n",
    "    #rep_word_text(text, word_groups)\n",
    "    text = rep_word_text(text, word_groups2)\n",
    "\n",
    "# Fit the vectorizer on all texts\n",
    "vectorizer.fit(all_texts)\n",
    "\n",
    "# Transform queries, titles, and content separately\n",
    "query_vectors = vectorizer.transform(df3['Query'].tolist())\n",
    "title_vectors = vectorizer.transform(df3['Title'].tolist())\n",
    "content_vectors = vectorizer.transform(df3['Content'].tolist())\n",
    "keywords_vectors = vectorizer.transform(keywords2)\n",
    "\n",
    "\n",
    "\n",
    "# Calculate cosine similarity\n",
    "relevance_scores_title = []\n",
    "relevance_scores_content = []\n",
    "relevance_scores_keywords = []\n",
    "\n",
    "num_documents = len(df3)\n",
    "num_keywords = len(keywords2)\n",
    "\n",
    "for i in range(len(df3)):\n",
    "    query_vector = query_vectors[i]\n",
    "    title_vector = title_vectors[i]\n",
    "    content_vector = content_vectors[i]\n",
    "   # keywords_vector = keywords_vectors[i]\n",
    "    \n",
    "\n",
    "    #rs_title = cosine_similarity(query_vector, title_vector)[0][0]\n",
    "    rs_content_q = cosine_similarity(query_vector, content_vector)[0][0]\n",
    "    #rs_content_kw = cosine_similarity(keywords_vector, content_vector)[0][0]\n",
    "    \n",
    "     # Calculate the average similarity score for the keyword groups\n",
    "    rs_content_kw = 0\n",
    "    for j in range(len(keywords2)):\n",
    "        keywords_vector = keywords_vectors[j]\n",
    "        rs_content_kw += cosine_similarity(keywords_vector, content_vector)[0][0]\n",
    "        rs_title = cosine_similarity(keywords_vector, title_vector)[0][0]\n",
    "    rs_content_kw /= len(keywords2)  # Average similarity for all keyword groups\n",
    "    rs_title /= len(keywords2)\n",
    "\n",
    "    relevance_scores_title.append(rs_title)\n",
    "    relevance_scores_content.append(rs_content_q)\n",
    "    relevance_scores_keywords.append(rs_content_kw)\n",
    "\n",
    "# Add relevance scores to the DataFrame\n",
    "df3['rs_title'] = relevance_scores_title\n",
    "df3['rs_content_q'] = relevance_scores_content\n",
    "df3['rs_content_kw'] = relevance_scores_keywords\n",
    "\n",
    "\n",
    "#df3.head(20)"
   ]
  },
  {
   "cell_type": "markdown",
   "id": "5714d858-a0c2-4ca6-93da-5a53739e310d",
   "metadata": {},
   "source": [
    "### I want to create new function for similarity"
   ]
  },
  {
   "cell_type": "code",
   "execution_count": 174,
   "id": "fea631c8-2fab-41f8-a0f0-d9c11060368b",
   "metadata": {},
   "outputs": [
    {
     "name": "stderr",
     "output_type": "stream",
     "text": [
      "[nltk_data] Downloading package punkt to\n",
      "[nltk_data]     /Users/hivagheisari/nltk_data...\n",
      "[nltk_data]   Package punkt is already up-to-date!\n"
     ]
    },
    {
     "data": {
      "text/plain": [
       "True"
      ]
     },
     "execution_count": 174,
     "metadata": {},
     "output_type": "execute_result"
    }
   ],
   "source": [
    "nltk.download('punkt')"
   ]
  },
  {
   "cell_type": "code",
   "execution_count": 200,
   "id": "fa4668e5-6837-4a9f-a808-2d6c943dab76",
   "metadata": {},
   "outputs": [],
   "source": [
    "#df3[\"Query\"].iloc[0], df3[\"Query\"].iloc[len(df3)-1]"
   ]
  },
  {
   "cell_type": "code",
   "execution_count": 193,
   "id": "ebca67c8-f2fc-405a-baed-b01ae5f0631c",
   "metadata": {},
   "outputs": [
    {
     "data": {
      "text/plain": [
       "10"
      ]
     },
     "execution_count": 193,
     "metadata": {},
     "output_type": "execute_result"
    }
   ],
   "source": [
    "e= df3[\"Query\"].nunique()\n",
    "e"
   ]
  },
  {
   "cell_type": "code",
   "execution_count": 198,
   "id": "f33d73c3-0c09-4693-902d-24a061aadbf6",
   "metadata": {},
   "outputs": [],
   "source": [
    "import numpy as np\n",
    "\n",
    "array = np.arange(0, 294, 10)\n",
    "for i in array:\n",
    "    s= df3[\"Query\"].iloc[i]\n",
    "    #print(s)"
   ]
  },
  {
   "cell_type": "code",
   "execution_count": 209,
   "id": "25881100-c807-483a-99f7-9034cff8d584",
   "metadata": {},
   "outputs": [
    {
     "data": {
      "text/plain": [
       "('Vessel caught misreporting catch amount',\n",
       " 10,\n",
       " 'Vessel caught bypassing quota system')"
      ]
     },
     "execution_count": 209,
     "metadata": {},
     "output_type": "execute_result"
    }
   ],
   "source": [
    "sen= ['Vessel caught misreporting catch amount', 'Vessel caught falsifying fishing logs', 'Vessel caught with incorrect catch reports',\n",
    "    'Vessel caught underreporting catch in North Atlantic', 'Vessel caught misreporting haddock catch', \n",
    "     'Vessel caught with inaccurate fish size records', 'Vessel caught underreporting catch near protected area',\n",
    "    'Vessel caught misreporting tuna catch quantities', 'Vessel caught with unrecorded fish species', \n",
    "    'Vessel caught bypassing quota system']\n",
    "sen[0], len(sen), sen[9]"
   ]
  },
  {
   "cell_type": "code",
   "execution_count": 216,
   "id": "51865682-8a2a-47c7-a555-dcbcd32c8203",
   "metadata": {},
   "outputs": [
    {
     "name": "stdout",
     "output_type": "stream",
     "text": [
      "['Vessel', 'caught', 'misreporting', 'catch', 'amount']\n",
      "['Vessel', 'caught', 'falsifying', 'fishing', 'logs']\n",
      "['Vessel', 'caught', 'with', 'incorrect', 'catch', 'reports']\n",
      "['Vessel', 'caught', 'underreporting', 'catch', 'in', 'North', 'Atlantic']\n",
      "['Vessel', 'caught', 'misreporting', 'haddock', 'catch']\n",
      "['Vessel', 'caught', 'with', 'inaccurate', 'fish', 'size', 'records']\n",
      "['Vessel', 'caught', 'underreporting', 'catch', 'near', 'protected', 'area']\n",
      "['Vessel', 'caught', 'misreporting', 'tuna', 'catch', 'quantities']\n",
      "['Vessel', 'caught', 'with', 'unrecorded', 'fish', 'species']\n",
      "['Vessel', 'caught', 'bypassing', 'quota', 'system']\n"
     ]
    }
   ],
   "source": [
    "import nltk\n",
    "\n",
    "from nltk.tokenize import word_tokenize\n",
    "\n",
    "sentence = sen\n",
    "#i=0\n",
    "words=[]\n",
    "for j in range(len(sen)):\n",
    "    sent = sen[j]\n",
    "    word = word_tokenize(sent)\n",
    "    #words= words+ word\n",
    "    print(word)"
   ]
  },
  {
   "cell_type": "code",
   "execution_count": 238,
   "id": "0e4e1607-5daf-4749-b2ae-aee0aedf6738",
   "metadata": {},
   "outputs": [],
   "source": [
    "a= [['Vessel', 'caught', 'misreporting', 'catch', 'amount', 'falsifying', 'fishing', 'logs','reports', 'haddock', 'inaccurate', 'fish',\n",
    "     'size', 'records','underreporting', 'protected', 'area','tuna', 'quantities', 'unrecorded', 'species', 'bypassing', 'quota', 'system']]"
   ]
  },
  {
   "cell_type": "code",
   "execution_count": null,
   "id": "1e49580d-631a-4ac0-abe6-4791077758cc",
   "metadata": {},
   "outputs": [],
   "source": [
    "NN, NNS, NNP, NNPS, JJ, PRP, VB, VBP, VBZ, VBD, VBN, VBG"
   ]
  },
  {
   "cell_type": "code",
   "execution_count": 236,
   "id": "e5644cda-f587-4114-9b25-f85d882af9c8",
   "metadata": {},
   "outputs": [
    {
     "data": {
      "text/plain": [
       "[['e'], ['w']]"
      ]
     },
     "execution_count": 236,
     "metadata": {},
     "output_type": "execute_result"
    }
   ],
   "source": [
    "b=[['e']]\n",
    "s=[['w']]\n",
    "b+s"
   ]
  },
  {
   "cell_type": "code",
   "execution_count": 244,
   "id": "ce969e00-23e7-4029-b440-a4ec6a0c9e73",
   "metadata": {},
   "outputs": [],
   "source": [
    "#word_groups2+a"
   ]
  },
  {
   "cell_type": "code",
   "execution_count": 247,
   "id": "6cd3a627-19c6-4f87-8e79-0ca43e0f87e3",
   "metadata": {},
   "outputs": [],
   "source": [
    "word_groups3 = [\n",
    "    # About documents\n",
    "    'unreport', 'unreported', 'unreporting', 'unreports',\n",
    "         'report','reports', 'reported', 'reporting',\n",
    "         'misreport', 'misreports', 'misreported', 'misreporting',\n",
    "         'nonreport', 'nonreports', 'nonreported', 'nonreporting' ,\n",
    "        'non-report', 'non-reports', 'non-reporting', 'non-reported', 'non-reportable',\n",
    "         'non report', 'non reports', 'non reporting' , 'non reported',\n",
    "        'underreport', 'underreports', 'underreported', 'underreporting',\n",
    "    \n",
    "    'unrecord', 'unrecords', 'unrecorded', 'unrecording', \n",
    "         'record', 'records', 'recorded', 'recording', 'recordable',\n",
    "         'non-record', 'non-records', 'non-recording', 'non-recorded', 'non-recordable',\n",
    "    \n",
    "    'undocument','undocumented', 'undocumenting', 'undocuments',\n",
    "    \n",
    "    'misrepresent', 'misrepresented', 'misrepresenting', 'misreports', 'represent',\n",
    "           'represents', 'represented', 'representing' ,\n",
    "    \n",
    "    'register', 'registers', 'registered', 'registering', 'unregister', 'unregisters', 'unregistered', 'unregistering',\n",
    "    \n",
    "    'log','logbook', 'logged','logs',\n",
    "    \n",
    "    'declare', 'declaration', 'declares', 'declared', 'declaring', 'underdeclaration', 'under-declaration', 'undeclare', 'undeclares', 'undeclared', 'undeclareing' ,\n",
    "    \n",
    "    'label', 'mislabel', 'labeling', 'labeled', 'labels', 'mislabeling', 'mislabled', 'mislables',\n",
    "    \n",
    "    'evade', 'evades', 'evading', 'evaded',\n",
    "    'disappear', 'disappears', 'disappeared', 'disappearing', 'appear', 'appears', 'appeared','appearing','reappear', 'reappears', 'reappeared', 'reappearing' ,\n",
    "    \n",
    "    'reveal','reveals', 'revealed', 'revealing', 'discover','discovers', 'discovered', 'discovering', 'vanish', 'vanishs', 'vanished', 'vanishing' ,\n",
    "    'endanger','endangers', 'endangered', 'endangering', 'protect', 'protects', 'protected', 'protecting', 'restrict', 'restricts', 'restricted', 'restricting',\n",
    "    'undisclose', 'undiscloses', 'undisclosing', 'undisclosed', 'disclose', 'discloses', 'disclosing', 'disclosed' ,\n",
    "    'ban','banned', 'banns', 'banning', 'restrict', 'restricts', 'restricted', 'restricting',\n",
    "    'hide','hidden', 'hides', 'hiding',\n",
    "    'bypass', 'bypasses', 'bypassing', 'bypassed',\n",
    "    'load', 'loaded', 'loads', 'loading', 'loaded','offloads','offloading', 'offloaded','offload', 'overload', 'overloads', 'overloaded' ,'overloading' ,\n",
    "    'vessel', 'ship', 'trawler', 'trawl', 'grid', 'protocol', 'device', 'devices', 'area', 'zone', 'boat', 'oceana','oceanic',\n",
    "    # About being false\n",
    "    'false', 'falsify', 'falsifies', 'falsifying', 'falsifies', 'falsified', 'falsification', 'fake', 'manipulated', 'manipulate', 'manipulates', 'manipulating', 'manipulation',\n",
    "    'fraud', 'fraudulence', 'hoax', 'illegal', 'inaccourate', 'fish', 'fishery', 'fisheries', 'fishing','news', 'marine',\n",
    "    # About amounts\n",
    "    'volume', 'quota', 'exceed', 'exceeds', 'exceeded', 'exceeding', 'inflation',\n",
    "    # Fish, Ocean, port \n",
    "    'catch', 'bycatch', 'harvest', 'juvenile', 'invasive',\n",
    "    'farmed', 'farming', 'fine', \n",
    "    'ocean', 'sea', 'seas', 'water', 'navy', 'army', 'waters',\n",
    "    'port', 'import', 'export', 'ports', 'imports', 'exports', 'imported', 'exported', 'importing', 'exporting',\n",
    "    'transshipment',\n",
    "    'landing', 'trade',\n",
    "    'selective', 'caught', 'catch', 'amount', 'by-catch','confiscate','transshipment','law','lawful',    \n",
    "#    ['commercial', 'industrial'],\n",
    "    # Crime\n",
    "    'offend', 'offended', 'offends', 'violate', 'violates', 'violated', 'violation',\n",
    "    'regulation', 'regulate', 'regulated', 'regulates', 'regulating', 'regulations', 'regulates', 'unregulate', 'unregulating', 'unregulates', 'unregulated',\n",
    "    'alter', 'altering', 'alters', 'altered',\n",
    "    'threaten', 'threatend', 'threatens', 'threatening',\n",
    "    'exploit', 'exploited', 'exploiting', 'exploits',\n",
    "    'impose', 'imposed', 'imposes', 'imposing',\n",
    "    'detect', 'detecting', 'detected', 'detects', 'prosecute', 'prosecutes', 'prosecuted', 'prosecuting',\n",
    "    'inspector', 'inspectors', 'inspect', 'inspects', 'inspected', 'inspecting','investigate', 'investigates', 'investigated','investigating','investigator',\n",
    "]"
   ]
  },
  {
   "cell_type": "code",
   "execution_count": 255,
   "id": "abeb7a1c-bd7c-455c-a989-ca01f329ed99",
   "metadata": {},
   "outputs": [],
   "source": [
    "from sklearn.feature_extraction.text import TfidfVectorizer\n",
    "from sklearn.metrics.pairwise import cosine_similarity\n",
    "import pandas as pd\n",
    "import nltk \n",
    "from nltk.corpus import wordnet \n",
    "import re\n",
    "from nltk.stem import WordNetLemmatizer\n",
    "from lemminflect import getInflection, getAllInflections\n",
    "\n",
    "\n",
    "# Flatten the list of keywords\n",
    "\n",
    "#keywords = [\" \".join(keyword_list) for keyword_list in word_groups]\n",
    "\n",
    "#[keyword for sublist in word_groups for keyword in sublist]\n",
    "\n",
    "# Fill None values with an empty string\n",
    "df3 = df3.fillna('no content')\n",
    "\n",
    "\n",
    "#keywords2 = [\"\".join(keyword_list[0]) for keyword_list in word_groups2]\n",
    "\n",
    "# Initialize the vectorizer\n",
    "vectorizer = TfidfVectorizer()\n",
    "\n",
    "\n",
    "# Combine all text data (queries, titles, and content) for consistent vectorization\n",
    "#all_texts = df['Query'].tolist() + df['Title'].tolist() \\\n",
    "#+ df['Content'].tolist()+ keywords\n",
    "all_texts = df3['Query'].tolist() + df3['Title'].tolist() + df3['Content'].tolist()+ word_groups3\n",
    "\n",
    "\n",
    "\n",
    "for text in all_texts:\n",
    "    #rep_word_text(text, word_groups)\n",
    "    text = rep_word_text(text, word_groups3)\n",
    "\n",
    "# Fit the vectorizer on all texts\n",
    "vectorizer.fit(all_texts)\n",
    "\n",
    "# Transform queries, titles, and content separately\n",
    "query_vectors = vectorizer.transform(df3['Query'].tolist())\n",
    "title_vectors = vectorizer.transform(df3['Title'].tolist())\n",
    "content_vectors = vectorizer.transform(df3['Content'].tolist())\n",
    "word_groups2_vectors = vectorizer.transform(word_groups3)\n",
    "\n",
    "\n",
    "\n",
    "# Calculate cosine similarity\n",
    "relevance_scores_title = []\n",
    "relevance_scores_content = []\n",
    "relevance_scores_word_groups3 = []\n",
    "\n",
    "num_documents = len(df3)\n",
    "num_word_groups3 = len(word_groups3)\n",
    "\n",
    "for i in range(len(df3)):\n",
    "    query_vector = query_vectors[i]\n",
    "    title_vector = title_vectors[i]\n",
    "    content_vector = content_vectors[i]\n",
    "   # keywords_vector = keywords_vectors[i]\n",
    "    \n",
    "\n",
    "    #rs_title = cosine_similarity(query_vector, title_vector)[0][0]\n",
    "    rs_content_q = cosine_similarity(query_vector, content_vector)[0][0]\n",
    "    #rs_content_kw = cosine_similarity(keywords_vector, content_vector)[0][0]\n",
    "    \n",
    "     # Calculate the average similarity score for the keyword groups\n",
    "    rs_content_word_groups3 = 0\n",
    "    for j in range(len(word_groups3)):\n",
    "        word_groups3_vector = word_groups3_vectors[j]\n",
    "        rs_content_word_groups3 += cosine_similarity(word_groups3_vector, content_vector)[0][0]\n",
    "        rs_title = cosine_similarity(word_groups3_vector, title_vector)[0][0]\n",
    "    rs_content_word_groups3 /= len(word_groups3)  # Average similarity for all keyword groups\n",
    "    rs_title /= len(word_groups3)\n",
    "\n",
    "    relevance_scores_title.append(rs_title)\n",
    "    relevance_scores_content.append(rs_content_q)\n",
    "    relevance_scores_word_groups3.append(rs_content_word_groups3)\n",
    "\n",
    "# Add relevance scores to the DataFrame\n",
    "df3['rs_title'] = relevance_scores_title\n",
    "df3['rs_content_q'] = relevance_scores_content\n",
    "df3['rs_content_word_groups3'] = relevance_scores_word_groups3\n",
    "\n",
    "\n",
    "#df3.head(10)"
   ]
  },
  {
   "cell_type": "code",
   "execution_count": null,
   "id": "edfa77eb-82df-4fd1-9d9c-b2ff6fdfc8e1",
   "metadata": {},
   "outputs": [],
   "source": [
    "\n",
    "# Download WordNet data if not already done\n",
    "nltk.download('wordnet')\n",
    "nltk.download('omw-1.4')\n"
   ]
  },
  {
   "cell_type": "code",
   "execution_count": null,
   "id": "92f6934d-237f-41c5-89da-c68036299303",
   "metadata": {},
   "outputs": [],
   "source": [
    "df3= pd.read_excel('df_content.xlsx')\n",
    "df3"
   ]
  },
  {
   "cell_type": "code",
   "execution_count": null,
   "id": "de0b1f0d-65ec-4c4c-9140-2c9c8582b3b5",
   "metadata": {},
   "outputs": [],
   "source": [
    "word_groups2 = [\n",
    "    # About documents\n",
    "    ['unreport', 'unreported', 'unreporting', 'unreports',\n",
    "         'report','reports', 'reported', 'reporting',\n",
    "         'misreport', 'misreports', 'misreported', 'misreporting',\n",
    "         'nonreport', 'nonreports', 'nonreported', 'nonreporting' ,\n",
    "        'non-report', 'non-reports', 'non-reporting', 'non-reported', 'non-reportable',\n",
    "         'non report', 'non reports', 'non reporting' , 'non reported',\n",
    "        'underreport', 'underreports', 'underreported', 'underreporting'],\n",
    "    \n",
    "    ['unrecord', 'unrecords', 'unrecorded', 'unrecording', \n",
    "         'record', 'records', 'recorded', 'recording', 'recordable',\n",
    "         'non-record', 'non-records', 'non-recording', 'non-recorded', 'non-recordable'],\n",
    "    \n",
    "    ['undocument','undocumented', 'undocumenting', 'undocuments'],\n",
    "    \n",
    "    ['misrepresent', 'misrepresented', 'misrepresenting', 'misreports', 'represent',\n",
    "           'represents', 'represented', 'representing' ],\n",
    "    \n",
    "    ['register', 'registers', 'registered', 'registering', 'unregister', 'unregisters', 'unregistered', 'unregistering'],\n",
    "    \n",
    "    ['log','logbook', 'logged','logs'],\n",
    "    \n",
    "    ['declare', 'declaration', 'declares', 'declared', 'declaring', 'underdeclaration', 'under-declaration', 'undeclare', 'undeclares', 'undeclared', 'undeclareing' ],\n",
    "    \n",
    "    ['label', 'mislabel', 'labeling', 'labeled', 'labels', 'mislabeling', 'mislabled', 'mislables'],\n",
    "    \n",
    "    ['evade', 'evades', 'evading', 'evaded'],\n",
    "    ['disappear', 'disappears', 'disappeared', 'disappearing', 'appear', 'appears', 'appeared','appearing','reappear', 'reappears', 'reappeared', 'reappearing' ],\n",
    "    \n",
    "    ['reveal','reveals', 'revealed', 'revealing', 'discover','discovers', 'discovered', 'discovering', 'vanish', 'vanishs', 'vanished', 'vanishing' ],\n",
    "    ['endanger','endangers', 'endangered', 'endangering', 'protect', 'protects', 'protected', 'protecting', 'restrict', 'restricts', 'restricted', 'restricting'],\n",
    "    ['undisclose', 'undiscloses', 'undisclosing', 'undisclosed', 'disclose', 'discloses', 'disclosing', 'disclosed' ],\n",
    "    ['ban','banned', 'banns', 'banning', 'restrict', 'restricts', 'restricted', 'restricting'],\n",
    "    ['hide','hidden', 'hides', 'hiding'],\n",
    "    ['bypass', 'bypasses', 'bypassing', 'bypassed'],\n",
    "    ['load', 'loaded', 'loads', 'loading', 'loaded','offloads','offloading', 'offloaded','offload', 'overload', 'overloads', 'overloaded' ,'overloading' ],\n",
    "    ['vessel', 'ship', 'trawler', 'trawl', 'grid', 'protocol', 'device', 'devices', 'area', 'zone', 'boat', 'oceana','oceanic'],\n",
    "    # About being false\n",
    "    ['false', 'falsify', 'falsifies', 'falsifying', 'falsifies', 'falsified', 'falsification', 'fake', 'manipulated', 'manipulate', 'manipulates', 'manipulating', 'manipulation'],\n",
    "    ['fraud', 'fraudulence', 'hoax', 'illegal', 'inaccourate', 'fish', 'fishery', 'fisheries', 'fishing','news', 'marine'],\n",
    "    # About amounts\n",
    "    ['volume', 'quota', 'exceed', 'exceeds', 'exceeded', 'exceeding', 'inflation'],\n",
    "    # Fish, Ocean, port \n",
    "    ['catch', 'bycatch', 'harvest', 'juvenile', 'invasive'],\n",
    "    ['farmed', 'farming', 'fine'], \n",
    "    ['ocean', 'sea', 'seas', 'water', 'navy', 'army', 'waters'],\n",
    "    ['port', 'import', 'export', 'ports', 'imports', 'exports', 'imported', 'exported', 'importing', 'exporting'],\n",
    "    ['transshipment'],\n",
    "    ['landing', 'trade'],\n",
    "    ['selective', 'caught', 'catch', 'amount', 'by-catch','confiscate','transshipment','law','lawful'],    \n",
    "#    ['commercial', 'industrial'],\n",
    "    # Crime\n",
    "    ['offend', 'offended', 'offends', 'violate', 'violates', 'violated', 'violation'],\n",
    "    ['regulation', 'regulate', 'regulated', 'regulates', 'regulating', 'regulations', 'regulates', 'unregulate', 'unregulating', 'unregulates', 'unregulated'],\n",
    "    ['alter', 'altering', 'alters', 'altered'],\n",
    "    ['threaten', 'threatend', 'threatens', 'threatening'],\n",
    "    ['exploit', 'exploited', 'exploiting', 'exploits'],\n",
    "    ['impose', 'imposed', 'imposes', 'imposing'],\n",
    "    ['detect', 'detecting', 'detected', 'detects', 'prosecute', 'prosecutes', 'prosecuted', 'prosecuting'],\n",
    "    ['inspector', 'inspectors', 'inspect', 'inspects', 'inspected', 'inspecting','investigate', 'investigates', 'investigated','investigating','investigator'],\n",
    "]"
   ]
  },
  {
   "cell_type": "code",
   "execution_count": 257,
   "id": "d53fa976-188f-4178-9348-0785e57a7a77",
   "metadata": {},
   "outputs": [
    {
     "ename": "KeyboardInterrupt",
     "evalue": "",
     "output_type": "error",
     "traceback": [
      "\u001b[0;31m---------------------------------------------------------------------------\u001b[0m",
      "\u001b[0;31mKeyboardInterrupt\u001b[0m                         Traceback (most recent call last)",
      "Cell \u001b[0;32mIn[257], line 73\u001b[0m\n\u001b[1;32m     70\u001b[0m content_text \u001b[38;5;241m=\u001b[39m df3[\u001b[38;5;124m'\u001b[39m\u001b[38;5;124mContent\u001b[39m\u001b[38;5;124m'\u001b[39m]\u001b[38;5;241m.\u001b[39miloc[i]\n\u001b[1;32m     72\u001b[0m rs_title \u001b[38;5;241m=\u001b[39m calculate_average_similarity(title_text, word_groups2)\n\u001b[0;32m---> 73\u001b[0m rs_content_q \u001b[38;5;241m=\u001b[39m calculate_average_similarity(content_text, word_groups2)\n\u001b[1;32m     74\u001b[0m rs_content_kw \u001b[38;5;241m=\u001b[39m calculate_average_similarity(query_text, word_groups2)\n\u001b[1;32m     76\u001b[0m relevance_scores_title\u001b[38;5;241m.\u001b[39mappend(rs_title)\n",
      "Cell \u001b[0;32mIn[257], line 49\u001b[0m, in \u001b[0;36mcalculate_average_similarity\u001b[0;34m(text, word_groups)\u001b[0m\n\u001b[1;32m     47\u001b[0m \u001b[38;5;28;01mfor\u001b[39;00m synset_word \u001b[38;5;129;01min\u001b[39;00m synsets_word:\n\u001b[1;32m     48\u001b[0m     \u001b[38;5;28;01mfor\u001b[39;00m synset_base \u001b[38;5;129;01min\u001b[39;00m synsets_base:\n\u001b[0;32m---> 49\u001b[0m         similarity \u001b[38;5;241m=\u001b[39m synset_word\u001b[38;5;241m.\u001b[39mwup_similarity(synset_base)\n\u001b[1;32m     50\u001b[0m         \u001b[38;5;28;01mif\u001b[39;00m similarity \u001b[38;5;129;01mand\u001b[39;00m similarity \u001b[38;5;241m>\u001b[39m max_similarity:\n\u001b[1;32m     51\u001b[0m             max_similarity \u001b[38;5;241m=\u001b[39m similarity\n",
      "File \u001b[0;32m~/Desktop/crime/env/lib/python3.12/site-packages/nltk/corpus/reader/wordnet.py:960\u001b[0m, in \u001b[0;36mSynset.wup_similarity\u001b[0;34m(self, other, verbose, simulate_root)\u001b[0m\n\u001b[1;32m    925\u001b[0m \u001b[38;5;28;01mdef\u001b[39;00m \u001b[38;5;21mwup_similarity\u001b[39m(\u001b[38;5;28mself\u001b[39m, other, verbose\u001b[38;5;241m=\u001b[39m\u001b[38;5;28;01mFalse\u001b[39;00m, simulate_root\u001b[38;5;241m=\u001b[39m\u001b[38;5;28;01mTrue\u001b[39;00m):\n\u001b[1;32m    926\u001b[0m \u001b[38;5;250m    \u001b[39m\u001b[38;5;124;03m\"\"\"\u001b[39;00m\n\u001b[1;32m    927\u001b[0m \u001b[38;5;124;03m    Wu-Palmer Similarity:\u001b[39;00m\n\u001b[1;32m    928\u001b[0m \u001b[38;5;124;03m    Return a score denoting how similar two word senses are, based on the\u001b[39;00m\n\u001b[0;32m   (...)\u001b[0m\n\u001b[1;32m    958\u001b[0m \n\u001b[1;32m    959\u001b[0m \u001b[38;5;124;03m    \"\"\"\u001b[39;00m\n\u001b[0;32m--> 960\u001b[0m     need_root \u001b[38;5;241m=\u001b[39m \u001b[38;5;28mself\u001b[39m\u001b[38;5;241m.\u001b[39m_needs_root() \u001b[38;5;129;01mor\u001b[39;00m other\u001b[38;5;241m.\u001b[39m_needs_root()\n\u001b[1;32m    962\u001b[0m     \u001b[38;5;66;03m# Note that to preserve behavior from NLTK2 we set use_min_depth=True\u001b[39;00m\n\u001b[1;32m    963\u001b[0m     \u001b[38;5;66;03m# It is possible that more accurate results could be obtained by\u001b[39;00m\n\u001b[1;32m    964\u001b[0m     \u001b[38;5;66;03m# removing this setting and it should be tested later on\u001b[39;00m\n\u001b[1;32m    965\u001b[0m     subsumers \u001b[38;5;241m=\u001b[39m \u001b[38;5;28mself\u001b[39m\u001b[38;5;241m.\u001b[39mlowest_common_hypernyms(\n\u001b[1;32m    966\u001b[0m         other, simulate_root\u001b[38;5;241m=\u001b[39msimulate_root \u001b[38;5;129;01mand\u001b[39;00m need_root, use_min_depth\u001b[38;5;241m=\u001b[39m\u001b[38;5;28;01mTrue\u001b[39;00m\n\u001b[1;32m    967\u001b[0m     )\n",
      "File \u001b[0;32m~/Desktop/crime/env/lib/python3.12/site-packages/nltk/corpus/reader/wordnet.py:479\u001b[0m, in \u001b[0;36mSynset._needs_root\u001b[0;34m(self)\u001b[0m\n\u001b[1;32m    478\u001b[0m \u001b[38;5;28;01mdef\u001b[39;00m \u001b[38;5;21m_needs_root\u001b[39m(\u001b[38;5;28mself\u001b[39m):\n\u001b[0;32m--> 479\u001b[0m     \u001b[38;5;28;01mif\u001b[39;00m \u001b[38;5;28mself\u001b[39m\u001b[38;5;241m.\u001b[39m_pos \u001b[38;5;241m==\u001b[39m NOUN \u001b[38;5;129;01mand\u001b[39;00m \u001b[38;5;28mself\u001b[39m\u001b[38;5;241m.\u001b[39m_wordnet_corpus_reader\u001b[38;5;241m.\u001b[39mget_version() \u001b[38;5;241m!=\u001b[39m \u001b[38;5;124m\"\u001b[39m\u001b[38;5;124m1.6\u001b[39m\u001b[38;5;124m\"\u001b[39m:\n\u001b[1;32m    480\u001b[0m         \u001b[38;5;28;01mreturn\u001b[39;00m \u001b[38;5;28;01mFalse\u001b[39;00m\n\u001b[1;32m    481\u001b[0m     \u001b[38;5;28;01melse\u001b[39;00m:\n",
      "File \u001b[0;32m~/Desktop/crime/env/lib/python3.12/site-packages/nltk/corpus/reader/wordnet.py:1439\u001b[0m, in \u001b[0;36mWordNetCorpusReader.get_version\u001b[0;34m(self)\u001b[0m\n\u001b[1;32m   1437\u001b[0m fh \u001b[38;5;241m=\u001b[39m \u001b[38;5;28mself\u001b[39m\u001b[38;5;241m.\u001b[39m_data_file(ADJ)\n\u001b[1;32m   1438\u001b[0m fh\u001b[38;5;241m.\u001b[39mseek(\u001b[38;5;241m0\u001b[39m)\n\u001b[0;32m-> 1439\u001b[0m \u001b[38;5;28;01mfor\u001b[39;00m line \u001b[38;5;129;01min\u001b[39;00m fh:\n\u001b[1;32m   1440\u001b[0m     match \u001b[38;5;241m=\u001b[39m re\u001b[38;5;241m.\u001b[39msearch(\u001b[38;5;124mr\u001b[39m\u001b[38;5;124m\"\u001b[39m\u001b[38;5;124mWord[nN]et (\u001b[39m\u001b[38;5;124m\\\u001b[39m\u001b[38;5;124md+|\u001b[39m\u001b[38;5;124m\\\u001b[39m\u001b[38;5;124md+\u001b[39m\u001b[38;5;124m\\\u001b[39m\u001b[38;5;124m.\u001b[39m\u001b[38;5;124m\\\u001b[39m\u001b[38;5;124md+) Copyright\u001b[39m\u001b[38;5;124m\"\u001b[39m, line)\n\u001b[1;32m   1441\u001b[0m     \u001b[38;5;28;01mif\u001b[39;00m match \u001b[38;5;129;01mis\u001b[39;00m \u001b[38;5;129;01mnot\u001b[39;00m \u001b[38;5;28;01mNone\u001b[39;00m:\n",
      "File \u001b[0;32m~/Desktop/crime/env/lib/python3.12/site-packages/nltk/data.py:1152\u001b[0m, in \u001b[0;36mSeekableUnicodeStreamReader.__next__\u001b[0;34m(self)\u001b[0m\n\u001b[1;32m   1151\u001b[0m \u001b[38;5;28;01mdef\u001b[39;00m \u001b[38;5;21m__next__\u001b[39m(\u001b[38;5;28mself\u001b[39m):\n\u001b[0;32m-> 1152\u001b[0m     \u001b[38;5;28;01mreturn\u001b[39;00m \u001b[38;5;28mself\u001b[39m\u001b[38;5;241m.\u001b[39mnext()\n",
      "File \u001b[0;32m~/Desktop/crime/env/lib/python3.12/site-packages/nltk/data.py:1145\u001b[0m, in \u001b[0;36mSeekableUnicodeStreamReader.next\u001b[0;34m(self)\u001b[0m\n\u001b[1;32m   1143\u001b[0m \u001b[38;5;28;01mdef\u001b[39;00m \u001b[38;5;21mnext\u001b[39m(\u001b[38;5;28mself\u001b[39m):\n\u001b[1;32m   1144\u001b[0m \u001b[38;5;250m    \u001b[39m\u001b[38;5;124;03m\"\"\"Return the next decoded line from the underlying stream.\"\"\"\u001b[39;00m\n\u001b[0;32m-> 1145\u001b[0m     line \u001b[38;5;241m=\u001b[39m \u001b[38;5;28mself\u001b[39m\u001b[38;5;241m.\u001b[39mreadline()\n\u001b[1;32m   1146\u001b[0m     \u001b[38;5;28;01mif\u001b[39;00m line:\n\u001b[1;32m   1147\u001b[0m         \u001b[38;5;28;01mreturn\u001b[39;00m line\n",
      "File \u001b[0;32m~/Desktop/crime/env/lib/python3.12/site-packages/nltk/data.py:1100\u001b[0m, in \u001b[0;36mSeekableUnicodeStreamReader.readline\u001b[0;34m(self, size)\u001b[0m\n\u001b[1;32m   1098\u001b[0m \u001b[38;5;28;01mwhile\u001b[39;00m \u001b[38;5;28;01mTrue\u001b[39;00m:\n\u001b[1;32m   1099\u001b[0m     startpos \u001b[38;5;241m=\u001b[39m \u001b[38;5;28mself\u001b[39m\u001b[38;5;241m.\u001b[39mstream\u001b[38;5;241m.\u001b[39mtell() \u001b[38;5;241m-\u001b[39m \u001b[38;5;28mlen\u001b[39m(\u001b[38;5;28mself\u001b[39m\u001b[38;5;241m.\u001b[39mbytebuffer)\n\u001b[0;32m-> 1100\u001b[0m     new_chars \u001b[38;5;241m=\u001b[39m \u001b[38;5;28mself\u001b[39m\u001b[38;5;241m.\u001b[39m_read(readsize)\n\u001b[1;32m   1102\u001b[0m     \u001b[38;5;66;03m# If we're at a '\\r', then read one extra character, since\u001b[39;00m\n\u001b[1;32m   1103\u001b[0m     \u001b[38;5;66;03m# it might be a '\\n', to get the proper line ending.\u001b[39;00m\n\u001b[1;32m   1104\u001b[0m     \u001b[38;5;28;01mif\u001b[39;00m new_chars \u001b[38;5;129;01mand\u001b[39;00m new_chars\u001b[38;5;241m.\u001b[39mendswith(\u001b[38;5;124m\"\u001b[39m\u001b[38;5;130;01m\\r\u001b[39;00m\u001b[38;5;124m\"\u001b[39m):\n",
      "File \u001b[0;32m~/Desktop/crime/env/lib/python3.12/site-packages/nltk/data.py:1323\u001b[0m, in \u001b[0;36mSeekableUnicodeStreamReader._read\u001b[0;34m(self, size)\u001b[0m\n\u001b[1;32m   1317\u001b[0m     \u001b[38;5;28;01mreturn\u001b[39;00m filepos\n\u001b[1;32m   1319\u001b[0m \u001b[38;5;66;03m# /////////////////////////////////////////////////////////////////\u001b[39;00m\n\u001b[1;32m   1320\u001b[0m \u001b[38;5;66;03m# Helper methods\u001b[39;00m\n\u001b[1;32m   1321\u001b[0m \u001b[38;5;66;03m# /////////////////////////////////////////////////////////////////\u001b[39;00m\n\u001b[0;32m-> 1323\u001b[0m \u001b[38;5;28;01mdef\u001b[39;00m \u001b[38;5;21m_read\u001b[39m(\u001b[38;5;28mself\u001b[39m, size\u001b[38;5;241m=\u001b[39m\u001b[38;5;28;01mNone\u001b[39;00m):\n\u001b[1;32m   1324\u001b[0m \u001b[38;5;250m    \u001b[39m\u001b[38;5;124;03m\"\"\"\u001b[39;00m\n\u001b[1;32m   1325\u001b[0m \u001b[38;5;124;03m    Read up to ``size`` bytes from the underlying stream, decode\u001b[39;00m\n\u001b[1;32m   1326\u001b[0m \u001b[38;5;124;03m    them using this reader's encoding, and return the resulting\u001b[39;00m\n\u001b[1;32m   1327\u001b[0m \u001b[38;5;124;03m    unicode string.  ``linebuffer`` is not included in the result.\u001b[39;00m\n\u001b[1;32m   1328\u001b[0m \u001b[38;5;124;03m    \"\"\"\u001b[39;00m\n\u001b[1;32m   1329\u001b[0m     \u001b[38;5;28;01mif\u001b[39;00m size \u001b[38;5;241m==\u001b[39m \u001b[38;5;241m0\u001b[39m:\n",
      "\u001b[0;31mKeyboardInterrupt\u001b[0m: "
     ]
    }
   ],
   "source": [
    "import nltk\n",
    "from nltk.corpus import wordnet\n",
    "import pandas as pd\n",
    "import re\n",
    "from nltk.stem import WordNetLemmatizer\n",
    "\n",
    "# Define the rep_word_text function using WordNet for synonym replacement\n",
    "def rep_word_text(text, word_groups):\n",
    "    lemmatizer = WordNetLemmatizer()\n",
    "    for group in word_groups:\n",
    "        if len(group) > 1:\n",
    "            base_word = group[0]\n",
    "            synonyms = group[1:]\n",
    "            for synonym in synonyms:\n",
    "                pattern = r'\\b{}\\b'.format(re.escape(synonym))\n",
    "                text = re.sub(pattern, base_word, text)\n",
    "    return text\n",
    "\n",
    "# Assuming df3 and word_groups2 are already defined\n",
    "# For example:\n",
    "# df3 = pd.DataFrame({'Query': [...], 'Title': [...], 'Content': [...]})\n",
    "# word_groups2 = [['false', 'falsify'], ['log', 'logbook'], ...]\n",
    "\n",
    "# Fill None values with an empty string\n",
    "df3 = df3.fillna('no content')\n",
    "\n",
    "# Flatten the list of keywords\n",
    "keywords2 = [\" \".join(keyword_list) for keyword_list in word_groups2]\n",
    "\n",
    "# Function to calculate average similarity using WordNet\n",
    "def calculate_average_similarity(text, word_groups):\n",
    "    lemmatizer = WordNetLemmatizer()\n",
    "    total_similarity = 0\n",
    "    count = 0\n",
    "\n",
    "    # Tokenize text and lemmatize each word\n",
    "    words = re.findall(r'\\b\\w+\\b', text.lower())\n",
    "    lemmatized_words = [lemmatizer.lemmatize(word) for word in words]\n",
    "\n",
    "    for word in lemmatized_words:\n",
    "        synsets_word = wordnet.synsets(word)\n",
    "        for group in word_groups:\n",
    "            base_word = group[0]\n",
    "            synsets_base = wordnet.synsets(base_word)\n",
    "\n",
    "            max_similarity = 0\n",
    "            for synset_word in synsets_word:\n",
    "                for synset_base in synsets_base:\n",
    "                    similarity = synset_word.wup_similarity(synset_base)\n",
    "                    if similarity and similarity > max_similarity:\n",
    "                        max_similarity = similarity\n",
    "\n",
    "            if max_similarity > 0:\n",
    "                total_similarity += max_similarity\n",
    "                count += 1\n",
    "\n",
    "    if count > 0:\n",
    "        return total_similarity / count\n",
    "    else:\n",
    "        return 0\n",
    "\n",
    "# Calculate relevance scores\n",
    "relevance_scores_title = []\n",
    "relevance_scores_content_q = []\n",
    "relevance_scores_content_kw = []\n",
    "\n",
    "for i in range(len(df3)):\n",
    "    query_text = df3['Query'].iloc[i]\n",
    "    title_text = df3['Title'].iloc[i]\n",
    "    content_text = df3['Content'].iloc[i]\n",
    "\n",
    "    rs_title = calculate_average_similarity(title_text, word_groups2)\n",
    "    rs_content_q = calculate_average_similarity(content_text, word_groups2)\n",
    "    rs_content_kw = calculate_average_similarity(query_text, word_groups2)\n",
    "\n",
    "    relevance_scores_title.append(rs_title)\n",
    "    relevance_scores_content_q.append(rs_content_q)\n",
    "    relevance_scores_content_kw.append(rs_content_kw)\n",
    "\n",
    "# Add relevance scores to the DataFrame\n",
    "df3['rs_title'] = relevance_scores_title\n",
    "df3['rs_content_q'] = relevance_scores_content_q\n",
    "df3['rs_content_kw'] = relevance_scores_content_kw\n",
    "\n",
    "# Display the DataFrame\n",
    "#print(df3.head(20))\n"
   ]
  },
  {
   "cell_type": "code",
   "execution_count": 259,
   "id": "4340f9f7-2f41-409f-91b5-04e969e34eec",
   "metadata": {},
   "outputs": [
    {
     "name": "stdout",
     "output_type": "stream",
     "text": [
      "Cosine Similarity using scikit-learn: 0.9899494936611665\n"
     ]
    }
   ],
   "source": [
    "from sklearn.metrics.pairwise import cosine_similarity\n",
    "\n",
    "A = np.array([[5, 3, 4,]])\n",
    "B = np.array([[4, 2, 4]])\n",
    "\n",
    "cosine_similarity_result = cosine_similarity(A, B)\n",
    "print(f\"Cosine Similarity using scikit-learn: {cosine_similarity_result[0][0]}\")"
   ]
  },
  {
   "cell_type": "code",
   "execution_count": null,
   "id": "48ed5369-14d3-4869-8a84-bda4ce6eff16",
   "metadata": {},
   "outputs": [],
   "source": []
  }
 ],
 "metadata": {
  "kernelspec": {
   "display_name": "Python 3 (ipykernel)",
   "language": "python",
   "name": "python3"
  },
  "language_info": {
   "codemirror_mode": {
    "name": "ipython",
    "version": 3
   },
   "file_extension": ".py",
   "mimetype": "text/x-python",
   "name": "python",
   "nbconvert_exporter": "python",
   "pygments_lexer": "ipython3",
   "version": "3.12.3"
  }
 },
 "nbformat": 4,
 "nbformat_minor": 5
}
